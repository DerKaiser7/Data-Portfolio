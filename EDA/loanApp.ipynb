{
 "cells": [
  {
   "cell_type": "markdown",
   "id": "17071b1d",
   "metadata": {},
   "source": [
    "## Introduction\n",
    "\n",
    "The EDA explores the data on loan applications to a bank, including various types of information on the applicant and the purpose of the loan, along with the eventual loan decision (approve or reject)"
   ]
  },
  {
   "cell_type": "code",
   "execution_count": 1,
   "id": "c6b3d542-53f4-4cc1-a579-c1f3826a43f4",
   "metadata": {},
   "outputs": [
    {
     "name": "stderr",
     "output_type": "stream",
     "text": [
      "/Users/Mcsteve/opt/anaconda3/lib/python3.8/site-packages/statsmodels/tsa/base/tsa_model.py:7: FutureWarning: pandas.Int64Index is deprecated and will be removed from pandas in a future version. Use pandas.Index with the appropriate dtype instead.\n",
      "  from pandas import (to_datetime, Int64Index, DatetimeIndex, Period,\n",
      "/Users/Mcsteve/opt/anaconda3/lib/python3.8/site-packages/statsmodels/tsa/base/tsa_model.py:7: FutureWarning: pandas.Float64Index is deprecated and will be removed from pandas in a future version. Use pandas.Index with the appropriate dtype instead.\n",
      "  from pandas import (to_datetime, Int64Index, DatetimeIndex, Period,\n"
     ]
    },
    {
     "data": {
      "text/html": [
       "\n",
       "    <div class=\"bk-root\">\n",
       "        <a href=\"https://bokeh.org\" target=\"_blank\" class=\"bk-logo bk-logo-small bk-logo-notebook\"></a>\n",
       "        <span id=\"1001\">Loading BokehJS ...</span>\n",
       "    </div>"
      ]
     },
     "metadata": {},
     "output_type": "display_data"
    },
    {
     "data": {
      "application/javascript": "\n(function(root) {\n  function now() {\n    return new Date();\n  }\n\n  var force = true;\n\n  if (typeof root._bokeh_onload_callbacks === \"undefined\" || force === true) {\n    root._bokeh_onload_callbacks = [];\n    root._bokeh_is_loading = undefined;\n  }\n\n  var JS_MIME_TYPE = 'application/javascript';\n  var HTML_MIME_TYPE = 'text/html';\n  var EXEC_MIME_TYPE = 'application/vnd.bokehjs_exec.v0+json';\n  var CLASS_NAME = 'output_bokeh rendered_html';\n\n  /**\n   * Render data to the DOM node\n   */\n  function render(props, node) {\n    var script = document.createElement(\"script\");\n    node.appendChild(script);\n  }\n\n  /**\n   * Handle when an output is cleared or removed\n   */\n  function handleClearOutput(event, handle) {\n    var cell = handle.cell;\n\n    var id = cell.output_area._bokeh_element_id;\n    var server_id = cell.output_area._bokeh_server_id;\n    // Clean up Bokeh references\n    if (id != null && id in Bokeh.index) {\n      Bokeh.index[id].model.document.clear();\n      delete Bokeh.index[id];\n    }\n\n    if (server_id !== undefined) {\n      // Clean up Bokeh references\n      var cmd = \"from bokeh.io.state import curstate; print(curstate().uuid_to_server['\" + server_id + \"'].get_sessions()[0].document.roots[0]._id)\";\n      cell.notebook.kernel.execute(cmd, {\n        iopub: {\n          output: function(msg) {\n            var id = msg.content.text.trim();\n            if (id in Bokeh.index) {\n              Bokeh.index[id].model.document.clear();\n              delete Bokeh.index[id];\n            }\n          }\n        }\n      });\n      // Destroy server and session\n      var cmd = \"import bokeh.io.notebook as ion; ion.destroy_server('\" + server_id + \"')\";\n      cell.notebook.kernel.execute(cmd);\n    }\n  }\n\n  /**\n   * Handle when a new output is added\n   */\n  function handleAddOutput(event, handle) {\n    var output_area = handle.output_area;\n    var output = handle.output;\n\n    // limit handleAddOutput to display_data with EXEC_MIME_TYPE content only\n    if ((output.output_type != \"display_data\") || (!Object.prototype.hasOwnProperty.call(output.data, EXEC_MIME_TYPE))) {\n      return\n    }\n\n    var toinsert = output_area.element.find(\".\" + CLASS_NAME.split(' ')[0]);\n\n    if (output.metadata[EXEC_MIME_TYPE][\"id\"] !== undefined) {\n      toinsert[toinsert.length - 1].firstChild.textContent = output.data[JS_MIME_TYPE];\n      // store reference to embed id on output_area\n      output_area._bokeh_element_id = output.metadata[EXEC_MIME_TYPE][\"id\"];\n    }\n    if (output.metadata[EXEC_MIME_TYPE][\"server_id\"] !== undefined) {\n      var bk_div = document.createElement(\"div\");\n      bk_div.innerHTML = output.data[HTML_MIME_TYPE];\n      var script_attrs = bk_div.children[0].attributes;\n      for (var i = 0; i < script_attrs.length; i++) {\n        toinsert[toinsert.length - 1].firstChild.setAttribute(script_attrs[i].name, script_attrs[i].value);\n        toinsert[toinsert.length - 1].firstChild.textContent = bk_div.children[0].textContent\n      }\n      // store reference to server id on output_area\n      output_area._bokeh_server_id = output.metadata[EXEC_MIME_TYPE][\"server_id\"];\n    }\n  }\n\n  function register_renderer(events, OutputArea) {\n\n    function append_mime(data, metadata, element) {\n      // create a DOM node to render to\n      var toinsert = this.create_output_subarea(\n        metadata,\n        CLASS_NAME,\n        EXEC_MIME_TYPE\n      );\n      this.keyboard_manager.register_events(toinsert);\n      // Render to node\n      var props = {data: data, metadata: metadata[EXEC_MIME_TYPE]};\n      render(props, toinsert[toinsert.length - 1]);\n      element.append(toinsert);\n      return toinsert\n    }\n\n    /* Handle when an output is cleared or removed */\n    events.on('clear_output.CodeCell', handleClearOutput);\n    events.on('delete.Cell', handleClearOutput);\n\n    /* Handle when a new output is added */\n    events.on('output_added.OutputArea', handleAddOutput);\n\n    /**\n     * Register the mime type and append_mime function with output_area\n     */\n    OutputArea.prototype.register_mime_type(EXEC_MIME_TYPE, append_mime, {\n      /* Is output safe? */\n      safe: true,\n      /* Index of renderer in `output_area.display_order` */\n      index: 0\n    });\n  }\n\n  // register the mime type if in Jupyter Notebook environment and previously unregistered\n  if (root.Jupyter !== undefined) {\n    var events = require('base/js/events');\n    var OutputArea = require('notebook/js/outputarea').OutputArea;\n\n    if (OutputArea.prototype.mime_types().indexOf(EXEC_MIME_TYPE) == -1) {\n      register_renderer(events, OutputArea);\n    }\n  }\n\n  \n  if (typeof (root._bokeh_timeout) === \"undefined\" || force === true) {\n    root._bokeh_timeout = Date.now() + 5000;\n    root._bokeh_failed_load = false;\n  }\n\n  var NB_LOAD_WARNING = {'data': {'text/html':\n     \"<div style='background-color: #fdd'>\\n\"+\n     \"<p>\\n\"+\n     \"BokehJS does not appear to have successfully loaded. If loading BokehJS from CDN, this \\n\"+\n     \"may be due to a slow or bad network connection. Possible fixes:\\n\"+\n     \"</p>\\n\"+\n     \"<ul>\\n\"+\n     \"<li>re-rerun `output_notebook()` to attempt to load from CDN again, or</li>\\n\"+\n     \"<li>use INLINE resources instead, as so:</li>\\n\"+\n     \"</ul>\\n\"+\n     \"<code>\\n\"+\n     \"from bokeh.resources import INLINE\\n\"+\n     \"output_notebook(resources=INLINE)\\n\"+\n     \"</code>\\n\"+\n     \"</div>\"}};\n\n  function display_loaded() {\n    var el = document.getElementById(\"1001\");\n    if (el != null) {\n      el.textContent = \"BokehJS is loading...\";\n    }\n    if (root.Bokeh !== undefined) {\n      if (el != null) {\n        el.textContent = \"BokehJS \" + root.Bokeh.version + \" successfully loaded.\";\n      }\n    } else if (Date.now() < root._bokeh_timeout) {\n      setTimeout(display_loaded, 100)\n    }\n  }\n\n\n  function run_callbacks() {\n    try {\n      root._bokeh_onload_callbacks.forEach(function(callback) {\n        if (callback != null)\n          callback();\n      });\n    } finally {\n      delete root._bokeh_onload_callbacks\n    }\n    console.debug(\"Bokeh: all callbacks have finished\");\n  }\n\n  function load_libs(css_urls, js_urls, callback) {\n    if (css_urls == null) css_urls = [];\n    if (js_urls == null) js_urls = [];\n\n    root._bokeh_onload_callbacks.push(callback);\n    if (root._bokeh_is_loading > 0) {\n      console.debug(\"Bokeh: BokehJS is being loaded, scheduling callback at\", now());\n      return null;\n    }\n    if (js_urls == null || js_urls.length === 0) {\n      run_callbacks();\n      return null;\n    }\n    console.debug(\"Bokeh: BokehJS not loaded, scheduling load and callback at\", now());\n    root._bokeh_is_loading = css_urls.length + js_urls.length;\n\n    function on_load() {\n      root._bokeh_is_loading--;\n      if (root._bokeh_is_loading === 0) {\n        console.debug(\"Bokeh: all BokehJS libraries/stylesheets loaded\");\n        run_callbacks()\n      }\n    }\n\n    function on_error(url) {\n      console.error(\"failed to load \" + url);\n    }\n\n    for (let i = 0; i < css_urls.length; i++) {\n      const url = css_urls[i];\n      const element = document.createElement(\"link\");\n      element.onload = on_load;\n      element.onerror = on_error.bind(null, url);\n      element.rel = \"stylesheet\";\n      element.type = \"text/css\";\n      element.href = url;\n      console.debug(\"Bokeh: injecting link tag for BokehJS stylesheet: \", url);\n      document.body.appendChild(element);\n    }\n\n    const hashes = {\"https://cdn.bokeh.org/bokeh/release/bokeh-2.3.3.min.js\": \"dM3QQsP+wXdHg42wTqW85BjZQdLNNIXqlPw/BgKoExPmTG7ZLML4EGqLMfqHT6ON\", \"https://cdn.bokeh.org/bokeh/release/bokeh-tables-2.3.3.min.js\": \"8x57I4YuIfu8XyZfFo0XVr2WAT8EK4rh/uDe3wF7YuW2FNUSNEpJbsPaB1nJ2fz2\", \"https://cdn.bokeh.org/bokeh/release/bokeh-widgets-2.3.3.min.js\": \"3QTqdz9LyAm2i0sG5XTePsHec3UHWwVsrOL68SYRoAXsafvfAyqtQ+h440+qIBhS\"};\n\n    for (let i = 0; i < js_urls.length; i++) {\n      const url = js_urls[i];\n      const element = document.createElement('script');\n      element.onload = on_load;\n      element.onerror = on_error.bind(null, url);\n      element.async = false;\n      element.src = url;\n      if (url in hashes) {\n        element.crossOrigin = \"anonymous\";\n        element.integrity = \"sha384-\" + hashes[url];\n      }\n      console.debug(\"Bokeh: injecting script tag for BokehJS library: \", url);\n      document.head.appendChild(element);\n    }\n  };\n\n  function inject_raw_css(css) {\n    const element = document.createElement(\"style\");\n    element.appendChild(document.createTextNode(css));\n    document.body.appendChild(element);\n  }\n\n  \n  var js_urls = [\"https://cdn.bokeh.org/bokeh/release/bokeh-2.3.3.min.js\", \"https://cdn.bokeh.org/bokeh/release/bokeh-widgets-2.3.3.min.js\", \"https://cdn.bokeh.org/bokeh/release/bokeh-tables-2.3.3.min.js\"];\n  var css_urls = [];\n  \n\n  var inline_js = [\n    function(Bokeh) {\n      Bokeh.set_log_level(\"info\");\n    },\n    function(Bokeh) {\n    \n    \n    }\n  ];\n\n  function run_inline_js() {\n    \n    if (root.Bokeh !== undefined || force === true) {\n      \n    for (var i = 0; i < inline_js.length; i++) {\n      inline_js[i].call(root, root.Bokeh);\n    }\n    if (force === true) {\n        display_loaded();\n      }} else if (Date.now() < root._bokeh_timeout) {\n      setTimeout(run_inline_js, 100);\n    } else if (!root._bokeh_failed_load) {\n      console.log(\"Bokeh: BokehJS failed to load within specified timeout.\");\n      root._bokeh_failed_load = true;\n    } else if (force !== true) {\n      var cell = $(document.getElementById(\"1001\")).parents('.cell').data().cell;\n      cell.output_area.append_execute_result(NB_LOAD_WARNING)\n    }\n\n  }\n\n  if (root._bokeh_is_loading === 0) {\n    console.debug(\"Bokeh: BokehJS loaded, going straight to plotting\");\n    run_inline_js();\n  } else {\n    load_libs(css_urls, js_urls, function() {\n      console.debug(\"Bokeh: BokehJS plotting callback run at\", now());\n      run_inline_js();\n    });\n  }\n}(window));",
      "application/vnd.bokehjs_load.v0+json": ""
     },
     "metadata": {},
     "output_type": "display_data"
    }
   ],
   "source": [
    "# Required libraries importation.\n",
    "\n",
    "import pandas as pd\n",
    "import numpy as np\n",
    "import statsmodels.api as sm\n",
    "import warnings\n",
    "warnings.filterwarnings('ignore')\n",
    "from bokeh.io import output_notebook\n",
    "output_notebook()\n",
    "from bokeh.plotting import figure\n",
    "from bokeh.io import show\n",
    "import matplotlib.pyplot as plt\n",
    "%matplotlib inline\n",
    "import seaborn as sns"
   ]
  },
  {
   "cell_type": "code",
   "execution_count": 2,
   "id": "35502363-60dc-4895-a82b-f1e19563b032",
   "metadata": {},
   "outputs": [
    {
     "data": {
      "text/html": [
       "<div>\n",
       "<style scoped>\n",
       "    .dataframe tbody tr th:only-of-type {\n",
       "        vertical-align: middle;\n",
       "    }\n",
       "\n",
       "    .dataframe tbody tr th {\n",
       "        vertical-align: top;\n",
       "    }\n",
       "\n",
       "    .dataframe thead th {\n",
       "        text-align: right;\n",
       "    }\n",
       "</style>\n",
       "<table border=\"1\" class=\"dataframe\">\n",
       "  <thead>\n",
       "    <tr style=\"text-align: right;\">\n",
       "      <th></th>\n",
       "      <th>Unnamed: 0</th>\n",
       "      <th>Loan_ID</th>\n",
       "      <th>Gender</th>\n",
       "      <th>Married</th>\n",
       "      <th>Dependents</th>\n",
       "      <th>Education</th>\n",
       "      <th>Self_Employed</th>\n",
       "      <th>ApplicantIncome</th>\n",
       "      <th>CoapplicantIncome</th>\n",
       "      <th>LoanAmount</th>\n",
       "      <th>Loan_Amount_Term</th>\n",
       "      <th>Credit_History</th>\n",
       "      <th>Property_Area</th>\n",
       "      <th>Loan_Status</th>\n",
       "      <th>Total_Income</th>\n",
       "    </tr>\n",
       "  </thead>\n",
       "  <tbody>\n",
       "    <tr>\n",
       "      <th>0</th>\n",
       "      <td>0</td>\n",
       "      <td>LP001002</td>\n",
       "      <td>Male</td>\n",
       "      <td>No</td>\n",
       "      <td>0</td>\n",
       "      <td>Graduate</td>\n",
       "      <td>No</td>\n",
       "      <td>5849</td>\n",
       "      <td>0.0</td>\n",
       "      <td>NaN</td>\n",
       "      <td>360.0</td>\n",
       "      <td>1.0</td>\n",
       "      <td>Urban</td>\n",
       "      <td>Y</td>\n",
       "      <td>$5849.0</td>\n",
       "    </tr>\n",
       "    <tr>\n",
       "      <th>1</th>\n",
       "      <td>1</td>\n",
       "      <td>LP001003</td>\n",
       "      <td>Male</td>\n",
       "      <td>Yes</td>\n",
       "      <td>1</td>\n",
       "      <td>Graduate</td>\n",
       "      <td>No</td>\n",
       "      <td>4583</td>\n",
       "      <td>1508.0</td>\n",
       "      <td>128.0</td>\n",
       "      <td>360.0</td>\n",
       "      <td>1.0</td>\n",
       "      <td>Rural</td>\n",
       "      <td>N</td>\n",
       "      <td>$6091.0</td>\n",
       "    </tr>\n",
       "    <tr>\n",
       "      <th>2</th>\n",
       "      <td>2</td>\n",
       "      <td>LP001005</td>\n",
       "      <td>Male</td>\n",
       "      <td>Yes</td>\n",
       "      <td>0</td>\n",
       "      <td>Graduate</td>\n",
       "      <td>Yes</td>\n",
       "      <td>3000</td>\n",
       "      <td>0.0</td>\n",
       "      <td>66.0</td>\n",
       "      <td>360.0</td>\n",
       "      <td>1.0</td>\n",
       "      <td>Urban</td>\n",
       "      <td>Y</td>\n",
       "      <td>$3000.0</td>\n",
       "    </tr>\n",
       "    <tr>\n",
       "      <th>3</th>\n",
       "      <td>3</td>\n",
       "      <td>LP001006</td>\n",
       "      <td>Male</td>\n",
       "      <td>Yes</td>\n",
       "      <td>0</td>\n",
       "      <td>Not Graduate</td>\n",
       "      <td>No</td>\n",
       "      <td>2583</td>\n",
       "      <td>2358.0</td>\n",
       "      <td>120.0</td>\n",
       "      <td>360.0</td>\n",
       "      <td>1.0</td>\n",
       "      <td>Urban</td>\n",
       "      <td>Y</td>\n",
       "      <td>$4941.0</td>\n",
       "    </tr>\n",
       "    <tr>\n",
       "      <th>4</th>\n",
       "      <td>4</td>\n",
       "      <td>LP001008</td>\n",
       "      <td>Male</td>\n",
       "      <td>No</td>\n",
       "      <td>0</td>\n",
       "      <td>Graduate</td>\n",
       "      <td>No</td>\n",
       "      <td>6000</td>\n",
       "      <td>0.0</td>\n",
       "      <td>141.0</td>\n",
       "      <td>360.0</td>\n",
       "      <td>1.0</td>\n",
       "      <td>Urban</td>\n",
       "      <td>Y</td>\n",
       "      <td>$6000.0</td>\n",
       "    </tr>\n",
       "  </tbody>\n",
       "</table>\n",
       "</div>"
      ],
      "text/plain": [
       "   Unnamed: 0   Loan_ID Gender Married Dependents     Education Self_Employed  \\\n",
       "0           0  LP001002   Male      No          0      Graduate            No   \n",
       "1           1  LP001003   Male     Yes          1      Graduate            No   \n",
       "2           2  LP001005   Male     Yes          0      Graduate           Yes   \n",
       "3           3  LP001006   Male     Yes          0  Not Graduate            No   \n",
       "4           4  LP001008   Male      No          0      Graduate            No   \n",
       "\n",
       "   ApplicantIncome  CoapplicantIncome  LoanAmount  Loan_Amount_Term  \\\n",
       "0             5849                0.0         NaN             360.0   \n",
       "1             4583             1508.0       128.0             360.0   \n",
       "2             3000                0.0        66.0             360.0   \n",
       "3             2583             2358.0       120.0             360.0   \n",
       "4             6000                0.0       141.0             360.0   \n",
       "\n",
       "   Credit_History Property_Area Loan_Status Total_Income  \n",
       "0             1.0         Urban           Y      $5849.0  \n",
       "1             1.0         Rural           N      $6091.0  \n",
       "2             1.0         Urban           Y      $3000.0  \n",
       "3             1.0         Urban           Y      $4941.0  \n",
       "4             1.0         Urban           Y      $6000.0  "
      ]
     },
     "execution_count": 2,
     "metadata": {},
     "output_type": "execute_result"
    }
   ],
   "source": [
    "# Load the data into a Dataframe and display the first few entries.\n",
    "\n",
    "loan_df = pd.read_csv(\"files/loanapp.csv\")\n",
    "loan_df.head()"
   ]
  },
  {
   "cell_type": "code",
   "execution_count": 3,
   "id": "28cce1c7",
   "metadata": {},
   "outputs": [
    {
     "data": {
      "text/plain": [
       "(500, 15)"
      ]
     },
     "execution_count": 3,
     "metadata": {},
     "output_type": "execute_result"
    }
   ],
   "source": [
    "# Examine the shape of the dataset\n",
    "\n",
    "loan_df.shape"
   ]
  },
  {
   "cell_type": "markdown",
   "id": "51ef6925",
   "metadata": {},
   "source": [
    "There are 500 rows/records in the dataset and 15 columns."
   ]
  },
  {
   "cell_type": "code",
   "execution_count": 4,
   "id": "8566fcff",
   "metadata": {},
   "outputs": [
    {
     "name": "stdout",
     "output_type": "stream",
     "text": [
      "<class 'pandas.core.frame.DataFrame'>\n",
      "RangeIndex: 500 entries, 0 to 499\n",
      "Data columns (total 15 columns):\n",
      " #   Column             Non-Null Count  Dtype  \n",
      "---  ------             --------------  -----  \n",
      " 0   Unnamed: 0         500 non-null    int64  \n",
      " 1   Loan_ID            500 non-null    object \n",
      " 2   Gender             491 non-null    object \n",
      " 3   Married            497 non-null    object \n",
      " 4   Dependents         488 non-null    object \n",
      " 5   Education          500 non-null    object \n",
      " 6   Self_Employed      473 non-null    object \n",
      " 7   ApplicantIncome    500 non-null    int64  \n",
      " 8   CoapplicantIncome  500 non-null    float64\n",
      " 9   LoanAmount         482 non-null    float64\n",
      " 10  Loan_Amount_Term   486 non-null    float64\n",
      " 11  Credit_History     459 non-null    float64\n",
      " 12  Property_Area      500 non-null    object \n",
      " 13  Loan_Status        500 non-null    object \n",
      " 14  Total_Income       500 non-null    object \n",
      "dtypes: float64(4), int64(2), object(9)\n",
      "memory usage: 58.7+ KB\n"
     ]
    }
   ],
   "source": [
    "# Display initial critical information about the Dataset\n",
    "\n",
    "loan_df.info()"
   ]
  },
  {
   "cell_type": "code",
   "execution_count": 15,
   "id": "a3e24d0f",
   "metadata": {},
   "outputs": [],
   "source": [
    "# Remove the $ symbol from the total income column.\n",
    "\n",
    "loan_df['Total_Income'] = loan_df['Total_Income'].str.replace('$', '').astype(float)"
   ]
  },
  {
   "cell_type": "code",
   "execution_count": 16,
   "id": "0c586f27",
   "metadata": {},
   "outputs": [
    {
     "name": "stdout",
     "output_type": "stream",
     "text": [
      "Loan_ID              0\n",
      "Gender               0\n",
      "Married              0\n",
      "Dependents           0\n",
      "Education            0\n",
      "Self_Employed        0\n",
      "Property_Area        0\n",
      "Loan_Status          0\n",
      "Total_Income         0\n",
      "Unnamed: 0           0\n",
      "ApplicantIncome      0\n",
      "CoapplicantIncome    0\n",
      "LoanAmount           0\n",
      "Loan_Amount_Term     0\n",
      "Credit_History       0\n",
      "dtype: int64\n"
     ]
    }
   ],
   "source": [
    "# Check for missing values in the Dataset\n",
    "print(loan_df.isna().sum())"
   ]
  },
  {
   "cell_type": "markdown",
   "id": "cb8e978f",
   "metadata": {},
   "source": [
    "We can immediately observe that there are indeed columns containing some missing values."
   ]
  },
  {
   "cell_type": "code",
   "execution_count": 5,
   "id": "972def47",
   "metadata": {},
   "outputs": [
    {
     "data": {
      "text/plain": [
       "Index([], dtype='object')"
      ]
     },
     "execution_count": 5,
     "metadata": {},
     "output_type": "execute_result"
    }
   ],
   "source": [
    "# Display columns with missing values\n",
    "\n",
    "loan_df.columns[loan_df.isna().any()]"
   ]
  },
  {
   "cell_type": "markdown",
   "id": "32774184",
   "metadata": {},
   "source": [
    "There are 7 columns with missing values highlighted in the list above."
   ]
  },
  {
   "cell_type": "code",
   "execution_count": 4,
   "id": "94b619a4",
   "metadata": {},
   "outputs": [],
   "source": [
    "# Missing value treatment by imputation.\n",
    "\n",
    "from sklearn.impute import SimpleImputer\n",
    "\n",
    "def handle_missing_values(df):\n",
    "    # Instantiate the simple imputer class to fill categorical and numerical variables.\n",
    "    num_imputer = SimpleImputer(strategy=\"median\")\n",
    "    cat_imputer = SimpleImputer(strategy=\"most_frequent\")\n",
    "    \n",
    "    # Split the DataFrame object into numerical and categorical columns.\n",
    "    df_num = df.select_dtypes(include=['int64', 'float64'])\n",
    "    df_cat = df.select_dtypes(include=['object'])\n",
    "    num_transformed = num_imputer.fit_transform(df_num)\n",
    "    cat_transformed = cat_imputer.fit_transform(df_cat)\n",
    "    clean_df_cat = pd.DataFrame(cat_transformed, columns=df_cat.columns)\n",
    "    clean_df_num = pd.DataFrame(num_transformed, columns=df_num.columns)\n",
    "    clean_df = clean_df_cat.join(clean_df_num)\n",
    "    return clean_df\n",
    "\n",
    "loan_df = handle_missing_values(loan_df)"
   ]
  },
  {
   "cell_type": "code",
   "execution_count": 6,
   "id": "727b26fd",
   "metadata": {},
   "outputs": [
    {
     "name": "stdout",
     "output_type": "stream",
     "text": [
      "Loan_ID              0\n",
      "Gender               0\n",
      "Married              0\n",
      "Dependents           0\n",
      "Education            0\n",
      "Self_Employed        0\n",
      "Property_Area        0\n",
      "Loan_Status          0\n",
      "Total_Income         0\n",
      "Unnamed: 0           0\n",
      "ApplicantIncome      0\n",
      "CoapplicantIncome    0\n",
      "LoanAmount           0\n",
      "Loan_Amount_Term     0\n",
      "Credit_History       0\n",
      "dtype: int64\n"
     ]
    }
   ],
   "source": [
    "# Check for presence of missing values in the Dataset.\n",
    "print(loan_df.isnull().sum())"
   ]
  },
  {
   "cell_type": "code",
   "execution_count": 7,
   "id": "b93ea5aa",
   "metadata": {},
   "outputs": [
    {
     "data": {
      "text/html": [
       "<div>\n",
       "<style scoped>\n",
       "    .dataframe tbody tr th:only-of-type {\n",
       "        vertical-align: middle;\n",
       "    }\n",
       "\n",
       "    .dataframe tbody tr th {\n",
       "        vertical-align: top;\n",
       "    }\n",
       "\n",
       "    .dataframe thead th {\n",
       "        text-align: right;\n",
       "    }\n",
       "</style>\n",
       "<table border=\"1\" class=\"dataframe\">\n",
       "  <thead>\n",
       "    <tr style=\"text-align: right;\">\n",
       "      <th></th>\n",
       "      <th>Loan_ID</th>\n",
       "      <th>Gender</th>\n",
       "      <th>Married</th>\n",
       "      <th>Dependents</th>\n",
       "      <th>Education</th>\n",
       "      <th>Self_Employed</th>\n",
       "      <th>Property_Area</th>\n",
       "      <th>Loan_Status</th>\n",
       "      <th>Total_Income</th>\n",
       "      <th>Unnamed: 0</th>\n",
       "      <th>ApplicantIncome</th>\n",
       "      <th>CoapplicantIncome</th>\n",
       "      <th>LoanAmount</th>\n",
       "      <th>Loan_Amount_Term</th>\n",
       "      <th>Credit_History</th>\n",
       "    </tr>\n",
       "  </thead>\n",
       "  <tbody>\n",
       "    <tr>\n",
       "      <th>0</th>\n",
       "      <td>LP001002</td>\n",
       "      <td>Male</td>\n",
       "      <td>No</td>\n",
       "      <td>0</td>\n",
       "      <td>Graduate</td>\n",
       "      <td>No</td>\n",
       "      <td>Urban</td>\n",
       "      <td>Y</td>\n",
       "      <td>$5849.0</td>\n",
       "      <td>0.0</td>\n",
       "      <td>5849.0</td>\n",
       "      <td>0.0</td>\n",
       "      <td>126.5</td>\n",
       "      <td>360.0</td>\n",
       "      <td>1.0</td>\n",
       "    </tr>\n",
       "    <tr>\n",
       "      <th>1</th>\n",
       "      <td>LP001003</td>\n",
       "      <td>Male</td>\n",
       "      <td>Yes</td>\n",
       "      <td>1</td>\n",
       "      <td>Graduate</td>\n",
       "      <td>No</td>\n",
       "      <td>Rural</td>\n",
       "      <td>N</td>\n",
       "      <td>$6091.0</td>\n",
       "      <td>1.0</td>\n",
       "      <td>4583.0</td>\n",
       "      <td>1508.0</td>\n",
       "      <td>128.0</td>\n",
       "      <td>360.0</td>\n",
       "      <td>1.0</td>\n",
       "    </tr>\n",
       "    <tr>\n",
       "      <th>2</th>\n",
       "      <td>LP001005</td>\n",
       "      <td>Male</td>\n",
       "      <td>Yes</td>\n",
       "      <td>0</td>\n",
       "      <td>Graduate</td>\n",
       "      <td>Yes</td>\n",
       "      <td>Urban</td>\n",
       "      <td>Y</td>\n",
       "      <td>$3000.0</td>\n",
       "      <td>2.0</td>\n",
       "      <td>3000.0</td>\n",
       "      <td>0.0</td>\n",
       "      <td>66.0</td>\n",
       "      <td>360.0</td>\n",
       "      <td>1.0</td>\n",
       "    </tr>\n",
       "    <tr>\n",
       "      <th>3</th>\n",
       "      <td>LP001006</td>\n",
       "      <td>Male</td>\n",
       "      <td>Yes</td>\n",
       "      <td>0</td>\n",
       "      <td>Not Graduate</td>\n",
       "      <td>No</td>\n",
       "      <td>Urban</td>\n",
       "      <td>Y</td>\n",
       "      <td>$4941.0</td>\n",
       "      <td>3.0</td>\n",
       "      <td>2583.0</td>\n",
       "      <td>2358.0</td>\n",
       "      <td>120.0</td>\n",
       "      <td>360.0</td>\n",
       "      <td>1.0</td>\n",
       "    </tr>\n",
       "    <tr>\n",
       "      <th>4</th>\n",
       "      <td>LP001008</td>\n",
       "      <td>Male</td>\n",
       "      <td>No</td>\n",
       "      <td>0</td>\n",
       "      <td>Graduate</td>\n",
       "      <td>No</td>\n",
       "      <td>Urban</td>\n",
       "      <td>Y</td>\n",
       "      <td>$6000.0</td>\n",
       "      <td>4.0</td>\n",
       "      <td>6000.0</td>\n",
       "      <td>0.0</td>\n",
       "      <td>141.0</td>\n",
       "      <td>360.0</td>\n",
       "      <td>1.0</td>\n",
       "    </tr>\n",
       "  </tbody>\n",
       "</table>\n",
       "</div>"
      ],
      "text/plain": [
       "    Loan_ID Gender Married Dependents     Education Self_Employed  \\\n",
       "0  LP001002   Male      No          0      Graduate            No   \n",
       "1  LP001003   Male     Yes          1      Graduate            No   \n",
       "2  LP001005   Male     Yes          0      Graduate           Yes   \n",
       "3  LP001006   Male     Yes          0  Not Graduate            No   \n",
       "4  LP001008   Male      No          0      Graduate            No   \n",
       "\n",
       "  Property_Area Loan_Status Total_Income  Unnamed: 0  ApplicantIncome  \\\n",
       "0         Urban           Y      $5849.0         0.0           5849.0   \n",
       "1         Rural           N      $6091.0         1.0           4583.0   \n",
       "2         Urban           Y      $3000.0         2.0           3000.0   \n",
       "3         Urban           Y      $4941.0         3.0           2583.0   \n",
       "4         Urban           Y      $6000.0         4.0           6000.0   \n",
       "\n",
       "   CoapplicantIncome  LoanAmount  Loan_Amount_Term  Credit_History  \n",
       "0                0.0       126.5             360.0             1.0  \n",
       "1             1508.0       128.0             360.0             1.0  \n",
       "2                0.0        66.0             360.0             1.0  \n",
       "3             2358.0       120.0             360.0             1.0  \n",
       "4                0.0       141.0             360.0             1.0  "
      ]
     },
     "execution_count": 7,
     "metadata": {},
     "output_type": "execute_result"
    }
   ],
   "source": [
    "# Examine the first few records.\n",
    "\n",
    "loan_df.head()"
   ]
  },
  {
   "cell_type": "markdown",
   "id": "aef12195",
   "metadata": {},
   "source": [
    "We now have no missing values in the dataset."
   ]
  },
  {
   "cell_type": "code",
   "execution_count": 13,
   "id": "c828ebf8",
   "metadata": {},
   "outputs": [
    {
     "name": "stdout",
     "output_type": "stream",
     "text": [
      "<class 'pandas.core.frame.DataFrame'>\n",
      "RangeIndex: 500 entries, 0 to 499\n",
      "Data columns (total 15 columns):\n",
      " #   Column             Non-Null Count  Dtype  \n",
      "---  ------             --------------  -----  \n",
      " 0   Loan_ID            500 non-null    object \n",
      " 1   Gender             500 non-null    object \n",
      " 2   Married            500 non-null    object \n",
      " 3   Dependents         500 non-null    object \n",
      " 4   Education          500 non-null    object \n",
      " 5   Self_Employed      500 non-null    object \n",
      " 6   Property_Area      500 non-null    object \n",
      " 7   Loan_Status        500 non-null    object \n",
      " 8   Total_Income       500 non-null    float64\n",
      " 9   Unnamed: 0         500 non-null    float64\n",
      " 10  ApplicantIncome    500 non-null    float64\n",
      " 11  CoapplicantIncome  500 non-null    float64\n",
      " 12  LoanAmount         500 non-null    float64\n",
      " 13  Loan_Amount_Term   500 non-null    float64\n",
      " 14  Credit_History     500 non-null    float64\n",
      "dtypes: float64(7), object(8)\n",
      "memory usage: 58.7+ KB\n"
     ]
    }
   ],
   "source": [
    "# Displays the df information again.\n",
    "\n",
    "loan_df.info()"
   ]
  },
  {
   "cell_type": "code",
   "execution_count": 8,
   "id": "53196d67",
   "metadata": {},
   "outputs": [
    {
     "data": {
      "text/html": [
       "<div>\n",
       "<style scoped>\n",
       "    .dataframe tbody tr th:only-of-type {\n",
       "        vertical-align: middle;\n",
       "    }\n",
       "\n",
       "    .dataframe tbody tr th {\n",
       "        vertical-align: top;\n",
       "    }\n",
       "\n",
       "    .dataframe thead th {\n",
       "        text-align: right;\n",
       "    }\n",
       "</style>\n",
       "<table border=\"1\" class=\"dataframe\">\n",
       "  <thead>\n",
       "    <tr style=\"text-align: right;\">\n",
       "      <th></th>\n",
       "      <th>Loan_ID</th>\n",
       "      <th>Gender</th>\n",
       "      <th>Married</th>\n",
       "      <th>Dependents</th>\n",
       "      <th>Education</th>\n",
       "      <th>Self_Employed</th>\n",
       "      <th>Property_Area</th>\n",
       "      <th>Loan_Status</th>\n",
       "      <th>Total_Income</th>\n",
       "      <th>Unnamed: 0</th>\n",
       "      <th>ApplicantIncome</th>\n",
       "      <th>CoapplicantIncome</th>\n",
       "      <th>LoanAmount</th>\n",
       "      <th>Loan_Amount_Term</th>\n",
       "      <th>Credit_History</th>\n",
       "    </tr>\n",
       "  </thead>\n",
       "  <tbody>\n",
       "    <tr>\n",
       "      <th>count</th>\n",
       "      <td>500</td>\n",
       "      <td>500</td>\n",
       "      <td>500</td>\n",
       "      <td>500</td>\n",
       "      <td>500</td>\n",
       "      <td>500</td>\n",
       "      <td>500</td>\n",
       "      <td>500</td>\n",
       "      <td>500</td>\n",
       "      <td>500.000000</td>\n",
       "      <td>500.000000</td>\n",
       "      <td>500.000000</td>\n",
       "      <td>500.000000</td>\n",
       "      <td>500.000000</td>\n",
       "      <td>500.000000</td>\n",
       "    </tr>\n",
       "    <tr>\n",
       "      <th>unique</th>\n",
       "      <td>500</td>\n",
       "      <td>2</td>\n",
       "      <td>2</td>\n",
       "      <td>4</td>\n",
       "      <td>2</td>\n",
       "      <td>2</td>\n",
       "      <td>3</td>\n",
       "      <td>2</td>\n",
       "      <td>457</td>\n",
       "      <td>NaN</td>\n",
       "      <td>NaN</td>\n",
       "      <td>NaN</td>\n",
       "      <td>NaN</td>\n",
       "      <td>NaN</td>\n",
       "      <td>NaN</td>\n",
       "    </tr>\n",
       "    <tr>\n",
       "      <th>top</th>\n",
       "      <td>LP001002</td>\n",
       "      <td>Male</td>\n",
       "      <td>Yes</td>\n",
       "      <td>0</td>\n",
       "      <td>Graduate</td>\n",
       "      <td>No</td>\n",
       "      <td>Semiurban</td>\n",
       "      <td>Y</td>\n",
       "      <td>$6000.0</td>\n",
       "      <td>NaN</td>\n",
       "      <td>NaN</td>\n",
       "      <td>NaN</td>\n",
       "      <td>NaN</td>\n",
       "      <td>NaN</td>\n",
       "      <td>NaN</td>\n",
       "    </tr>\n",
       "    <tr>\n",
       "      <th>freq</th>\n",
       "      <td>1</td>\n",
       "      <td>409</td>\n",
       "      <td>325</td>\n",
       "      <td>300</td>\n",
       "      <td>393</td>\n",
       "      <td>434</td>\n",
       "      <td>188</td>\n",
       "      <td>345</td>\n",
       "      <td>4</td>\n",
       "      <td>NaN</td>\n",
       "      <td>NaN</td>\n",
       "      <td>NaN</td>\n",
       "      <td>NaN</td>\n",
       "      <td>NaN</td>\n",
       "      <td>NaN</td>\n",
       "    </tr>\n",
       "    <tr>\n",
       "      <th>mean</th>\n",
       "      <td>NaN</td>\n",
       "      <td>NaN</td>\n",
       "      <td>NaN</td>\n",
       "      <td>NaN</td>\n",
       "      <td>NaN</td>\n",
       "      <td>NaN</td>\n",
       "      <td>NaN</td>\n",
       "      <td>NaN</td>\n",
       "      <td>NaN</td>\n",
       "      <td>249.500000</td>\n",
       "      <td>5493.644000</td>\n",
       "      <td>1506.307840</td>\n",
       "      <td>143.390000</td>\n",
       "      <td>343.032000</td>\n",
       "      <td>0.856000</td>\n",
       "    </tr>\n",
       "    <tr>\n",
       "      <th>std</th>\n",
       "      <td>NaN</td>\n",
       "      <td>NaN</td>\n",
       "      <td>NaN</td>\n",
       "      <td>NaN</td>\n",
       "      <td>NaN</td>\n",
       "      <td>NaN</td>\n",
       "      <td>NaN</td>\n",
       "      <td>NaN</td>\n",
       "      <td>NaN</td>\n",
       "      <td>144.481833</td>\n",
       "      <td>6515.668972</td>\n",
       "      <td>2134.432188</td>\n",
       "      <td>80.912091</td>\n",
       "      <td>62.999117</td>\n",
       "      <td>0.351441</td>\n",
       "    </tr>\n",
       "    <tr>\n",
       "      <th>min</th>\n",
       "      <td>NaN</td>\n",
       "      <td>NaN</td>\n",
       "      <td>NaN</td>\n",
       "      <td>NaN</td>\n",
       "      <td>NaN</td>\n",
       "      <td>NaN</td>\n",
       "      <td>NaN</td>\n",
       "      <td>NaN</td>\n",
       "      <td>NaN</td>\n",
       "      <td>0.000000</td>\n",
       "      <td>150.000000</td>\n",
       "      <td>0.000000</td>\n",
       "      <td>17.000000</td>\n",
       "      <td>12.000000</td>\n",
       "      <td>0.000000</td>\n",
       "    </tr>\n",
       "    <tr>\n",
       "      <th>25%</th>\n",
       "      <td>NaN</td>\n",
       "      <td>NaN</td>\n",
       "      <td>NaN</td>\n",
       "      <td>NaN</td>\n",
       "      <td>NaN</td>\n",
       "      <td>NaN</td>\n",
       "      <td>NaN</td>\n",
       "      <td>NaN</td>\n",
       "      <td>NaN</td>\n",
       "      <td>124.750000</td>\n",
       "      <td>2874.500000</td>\n",
       "      <td>0.000000</td>\n",
       "      <td>100.000000</td>\n",
       "      <td>360.000000</td>\n",
       "      <td>1.000000</td>\n",
       "    </tr>\n",
       "    <tr>\n",
       "      <th>50%</th>\n",
       "      <td>NaN</td>\n",
       "      <td>NaN</td>\n",
       "      <td>NaN</td>\n",
       "      <td>NaN</td>\n",
       "      <td>NaN</td>\n",
       "      <td>NaN</td>\n",
       "      <td>NaN</td>\n",
       "      <td>NaN</td>\n",
       "      <td>NaN</td>\n",
       "      <td>249.500000</td>\n",
       "      <td>3854.000000</td>\n",
       "      <td>1125.500000</td>\n",
       "      <td>126.500000</td>\n",
       "      <td>360.000000</td>\n",
       "      <td>1.000000</td>\n",
       "    </tr>\n",
       "    <tr>\n",
       "      <th>75%</th>\n",
       "      <td>NaN</td>\n",
       "      <td>NaN</td>\n",
       "      <td>NaN</td>\n",
       "      <td>NaN</td>\n",
       "      <td>NaN</td>\n",
       "      <td>NaN</td>\n",
       "      <td>NaN</td>\n",
       "      <td>NaN</td>\n",
       "      <td>NaN</td>\n",
       "      <td>374.250000</td>\n",
       "      <td>5764.000000</td>\n",
       "      <td>2253.250000</td>\n",
       "      <td>160.000000</td>\n",
       "      <td>360.000000</td>\n",
       "      <td>1.000000</td>\n",
       "    </tr>\n",
       "    <tr>\n",
       "      <th>max</th>\n",
       "      <td>NaN</td>\n",
       "      <td>NaN</td>\n",
       "      <td>NaN</td>\n",
       "      <td>NaN</td>\n",
       "      <td>NaN</td>\n",
       "      <td>NaN</td>\n",
       "      <td>NaN</td>\n",
       "      <td>NaN</td>\n",
       "      <td>NaN</td>\n",
       "      <td>499.000000</td>\n",
       "      <td>81000.000000</td>\n",
       "      <td>20000.000000</td>\n",
       "      <td>700.000000</td>\n",
       "      <td>480.000000</td>\n",
       "      <td>1.000000</td>\n",
       "    </tr>\n",
       "  </tbody>\n",
       "</table>\n",
       "</div>"
      ],
      "text/plain": [
       "         Loan_ID Gender Married Dependents Education Self_Employed  \\\n",
       "count        500    500     500        500       500           500   \n",
       "unique       500      2       2          4         2             2   \n",
       "top     LP001002   Male     Yes          0  Graduate            No   \n",
       "freq           1    409     325        300       393           434   \n",
       "mean         NaN    NaN     NaN        NaN       NaN           NaN   \n",
       "std          NaN    NaN     NaN        NaN       NaN           NaN   \n",
       "min          NaN    NaN     NaN        NaN       NaN           NaN   \n",
       "25%          NaN    NaN     NaN        NaN       NaN           NaN   \n",
       "50%          NaN    NaN     NaN        NaN       NaN           NaN   \n",
       "75%          NaN    NaN     NaN        NaN       NaN           NaN   \n",
       "max          NaN    NaN     NaN        NaN       NaN           NaN   \n",
       "\n",
       "       Property_Area Loan_Status Total_Income  Unnamed: 0  ApplicantIncome  \\\n",
       "count            500         500          500  500.000000       500.000000   \n",
       "unique             3           2          457         NaN              NaN   \n",
       "top        Semiurban           Y      $6000.0         NaN              NaN   \n",
       "freq             188         345            4         NaN              NaN   \n",
       "mean             NaN         NaN          NaN  249.500000      5493.644000   \n",
       "std              NaN         NaN          NaN  144.481833      6515.668972   \n",
       "min              NaN         NaN          NaN    0.000000       150.000000   \n",
       "25%              NaN         NaN          NaN  124.750000      2874.500000   \n",
       "50%              NaN         NaN          NaN  249.500000      3854.000000   \n",
       "75%              NaN         NaN          NaN  374.250000      5764.000000   \n",
       "max              NaN         NaN          NaN  499.000000     81000.000000   \n",
       "\n",
       "        CoapplicantIncome  LoanAmount  Loan_Amount_Term  Credit_History  \n",
       "count          500.000000  500.000000        500.000000      500.000000  \n",
       "unique                NaN         NaN               NaN             NaN  \n",
       "top                   NaN         NaN               NaN             NaN  \n",
       "freq                  NaN         NaN               NaN             NaN  \n",
       "mean          1506.307840  143.390000        343.032000        0.856000  \n",
       "std           2134.432188   80.912091         62.999117        0.351441  \n",
       "min              0.000000   17.000000         12.000000        0.000000  \n",
       "25%              0.000000  100.000000        360.000000        1.000000  \n",
       "50%           1125.500000  126.500000        360.000000        1.000000  \n",
       "75%           2253.250000  160.000000        360.000000        1.000000  \n",
       "max          20000.000000  700.000000        480.000000        1.000000  "
      ]
     },
     "execution_count": 8,
     "metadata": {},
     "output_type": "execute_result"
    }
   ],
   "source": [
    "# Display descriptive stats on the dataset\n",
    "\n",
    "loan_df.describe(include='all')"
   ]
  },
  {
   "cell_type": "markdown",
   "id": "9047e1e3",
   "metadata": {},
   "source": [
    "Display of Descriptive statistics on the dataset revealed the following information;\n",
    "\n",
    "1. The average loan amount was £143.39 with standard Deviation of 80.912, the highest loan amount approved was £700 with the lowest being £17.\n",
    "\n",
    "2. The average income of applicants was £5493.644 with standard Deviation of 6515.66, the applicant with the highest income was £81000 with the lowest being £150. The huge spread in applicants income is especially highlighted by the standard deviation here.\n",
    "\n",
    "3. Majority of the loan applicants were married white males who had never filed for bankruptcy."
   ]
  },
  {
   "cell_type": "markdown",
   "id": "153b6768",
   "metadata": {},
   "source": [
    "## Categorical Variables"
   ]
  },
  {
   "cell_type": "code",
   "execution_count": 9,
   "id": "c50c0e10",
   "metadata": {},
   "outputs": [],
   "source": [
    "# Function to plot a bar chart of the unique values of a variable.\n",
    "\n",
    "def plot_bar_chart(df, column, title, color):\n",
    "    df[column].value_counts().plot(kind='barh', title=title, color=color, figsize=(8,6), rot=0)\n",
    "    print(df[column].value_counts())"
   ]
  },
  {
   "cell_type": "code",
   "execution_count": 29,
   "id": "9fdd9ae0",
   "metadata": {},
   "outputs": [],
   "source": [
    "# Function to make a piechart of values in a column.\n",
    "\n",
    "def plot_pie_chart(df, column, title, color):\n",
    "    df[column].value_counts().plot(kind='pie', title=title, colormap=color,figsize=(8,6), rot=0, autopct= \"%1.1f%%\")\n",
    "    print(df[column].value_counts())"
   ]
  },
  {
   "cell_type": "markdown",
   "id": "b75086dc",
   "metadata": {},
   "source": [
    "<h3>1. Employment Status</h3>"
   ]
  },
  {
   "cell_type": "code",
   "execution_count": 12,
   "id": "8b3086ba",
   "metadata": {},
   "outputs": [
    {
     "name": "stdout",
     "output_type": "stream",
     "text": [
      "No     434\n",
      "Yes     66\n",
      "Name: Self_Employed, dtype: int64\n"
     ]
    },
    {
     "data": {
      "image/png": "[encoded data removed]",
      "text/plain": [
       "<Figure size 576x432 with 1 Axes>"
      ]
     },
     "metadata": {
      "needs_background": "light"
     },
     "output_type": "display_data"
    }
   ],
   "source": [
    "# Displays the distribution of applicant's employment status\n",
    "\n",
    "plot_bar_chart(loan_df, 'Self_Employed', 'Employment Status', ['red', 'blue'])"
   ]
  },
  {
   "cell_type": "markdown",
   "id": "edc35eb7",
   "metadata": {},
   "source": [
    "The plot above shows that majority of the loan applicants were workers who had to depend on a salary with just 13.2% of applicants (66 out of 500) being self employed."
   ]
  },
  {
   "cell_type": "markdown",
   "id": "a47cfdee",
   "metadata": {},
   "source": [
    "<h3>2. Loan Decision</h3>"
   ]
  },
  {
   "cell_type": "code",
   "execution_count": 42,
   "id": "61fb7838",
   "metadata": {},
   "outputs": [
    {
     "name": "stdout",
     "output_type": "stream",
     "text": [
      "Y    345\n",
      "N    155\n",
      "Name: Loan_Status, dtype: int64\n"
     ]
    },
    {
     "data": {
      "image/png": "[encoded data removed]",
      "text/plain": [
       "<Figure size 576x432 with 1 Axes>"
      ]
     },
     "metadata": {},
     "output_type": "display_data"
    }
   ],
   "source": [
    "# Display the distribution of the loan decision of applicants.\n",
    "\n",
    "plot_pie_chart(loan_df, 'Loan_Status', 'Loan Decision', 'ocean')"
   ]
  },
  {
   "cell_type": "markdown",
   "id": "3b98aba0",
   "metadata": {},
   "source": [
    "The plot above shows the distribution of the loan decision. A higher proportion of the loans were approved with 345 out of the 500 (equivalent to 69%) receving a yes."
   ]
  },
  {
   "cell_type": "markdown",
   "id": "7d4e0eb1",
   "metadata": {},
   "source": [
    "<h3>3. Marital Status</h3>"
   ]
  },
  {
   "cell_type": "code",
   "execution_count": null,
   "id": "7e51bfd7",
   "metadata": {},
   "outputs": [
    {
     "name": "stdout",
     "output_type": "stream",
     "text": [
      "Yes    325\n",
      "No     175\n",
      "Name: Married, dtype: int64\n"
     ]
    },
    {
     "data": {
      "image/png": "[encoded data removed]",
      "text/plain": [
       "<Figure size 576x432 with 1 Axes>"
      ]
     },
     "metadata": {},
     "output_type": "display_data"
    }
   ],
   "source": [
    "plot_bar_chart(loan_df, 'Married', 'Marital Status', ['#F9D923', '#6FDFDF'])"
   ]
  },
  {
   "cell_type": "markdown",
   "id": "fec66a45",
   "metadata": {},
   "source": [
    "The plot above shows the marital status of the applicants. Married people constitute the majority of the applicants with 325 of 500 (65%)."
   ]
  },
  {
   "cell_type": "markdown",
   "id": "57c696d0",
   "metadata": {},
   "source": [
    "<h3>4. Applicant Gender</h3>"
   ]
  },
  {
   "cell_type": "code",
   "execution_count": 46,
   "id": "2b5fda6a",
   "metadata": {},
   "outputs": [
    {
     "name": "stdout",
     "output_type": "stream",
     "text": [
      "Male      409\n",
      "Female     91\n",
      "Name: Gender, dtype: int64\n"
     ]
    },
    {
     "data": {
      "image/png": "[encoded data removed]",
      "text/plain": [
       "<Figure size 576x432 with 1 Axes>"
      ]
     },
     "metadata": {},
     "output_type": "display_data"
    }
   ],
   "source": [
    "plot_pie_chart(loan_df, 'Gender', 'Applicant Gender', 'icefire')"
   ]
  },
  {
   "cell_type": "markdown",
   "id": "39eed211",
   "metadata": {},
   "source": [
    "The chart above shows the distribution of the applicant's gender. The male gender dominates the applicants with a whooping 81.8% (409 out of 500) while the female gender constituted 18.2% (91 of 500) of the loan applicants."
   ]
  },
  {
   "cell_type": "markdown",
   "id": "672c6b3b",
   "metadata": {},
   "source": [
    "## Continuous Variables"
   ]
  },
  {
   "cell_type": "code",
   "execution_count": 10,
   "id": "5811003c",
   "metadata": {},
   "outputs": [],
   "source": [
    "# Function to plot the distribution of continuous variables.\n",
    "def plot_histogram(df, column, title):\n",
    "    df.hist(column=column, bins=10, figsize=(11,8))\n",
    "    plt.title(title)"
   ]
  },
  {
   "cell_type": "markdown",
   "id": "0479af44",
   "metadata": {},
   "source": [
    "<h3>1. Loan Amount</h3>"
   ]
  },
  {
   "cell_type": "code",
   "execution_count": 23,
   "id": "4e856062",
   "metadata": {},
   "outputs": [
    {
     "data": {
      "image/png": "[encoded data removed]",
      "text/plain": [
       "<Figure size 792x576 with 1 Axes>"
      ]
     },
     "metadata": {
      "needs_background": "light"
     },
     "output_type": "display_data"
    }
   ],
   "source": [
    "# Display the distribution of the Loan Amount.\n",
    "\n",
    "plot_histogram(loan_df, 'LoanAmount', 'Loan Amount')"
   ]
  },
  {
   "cell_type": "markdown",
   "id": "d4cec16e",
   "metadata": {},
   "source": [
    "From the above plot, we can quickly see observe that the Loan Amount is asymmetric and right skewed as a result of the lower bound in the variable as observed in the descriptive statistics."
   ]
  },
  {
   "cell_type": "markdown",
   "id": "1bc68de7",
   "metadata": {},
   "source": [
    "<h3>2. Applicant's Income</h3>"
   ]
  },
  {
   "cell_type": "code",
   "execution_count": 24,
   "id": "edc2528e",
   "metadata": {},
   "outputs": [
    {
     "data": {
      "image/png": "[encoded data removed]",
      "text/plain": [
       "<Figure size 792x576 with 1 Axes>"
      ]
     },
     "metadata": {
      "needs_background": "light"
     },
     "output_type": "display_data"
    }
   ],
   "source": [
    "# Display the distribution of the applicant income.\n",
    "\n",
    "plot_histogram(loan_df, 'ApplicantIncome', 'Applicant Income')"
   ]
  },
  {
   "cell_type": "markdown",
   "id": "ae579f3f",
   "metadata": {},
   "source": [
    "The histogram above shows the distribution of the applicant's income. We can also observe a right skew on this variable with a huge chunk of applicants having income ranging from £150 to £24000 with the highest applicant representing more of an outlier with income of £81,000 so far away from majority of the others."
   ]
  },
  {
   "cell_type": "markdown",
   "id": "a990b8e8",
   "metadata": {},
   "source": [
    "<h3>3. Co-Applicant's Income.</h3>"
   ]
  },
  {
   "cell_type": "code",
   "execution_count": 25,
   "id": "227de604",
   "metadata": {},
   "outputs": [
    {
     "data": {
      "image/png": "[encoded data removed]",
      "text/plain": [
       "<Figure size 792x576 with 1 Axes>"
      ]
     },
     "metadata": {
      "needs_background": "light"
     },
     "output_type": "display_data"
    }
   ],
   "source": [
    "plot_histogram(loan_df, 'CoapplicantIncome', 'Coapplicant Income')"
   ]
  },
  {
   "cell_type": "markdown",
   "id": "fe586f2b",
   "metadata": {},
   "source": [
    "The histogram above shows the distribution of the Co applicant's income. We can also observe a right skew on this variable with a huge chunk of Co applicants having income ranging from £0 to £6000 with the highest Co-applicant out on their own with income of £20000."
   ]
  },
  {
   "cell_type": "markdown",
   "id": "4bf8ea2b",
   "metadata": {},
   "source": [
    "<h3>4. Total Income</h3>"
   ]
  },
  {
   "cell_type": "code",
   "execution_count": 16,
   "id": "7528035b",
   "metadata": {},
   "outputs": [
    {
     "data": {
      "image/png": "[encoded data removed]",
      "text/plain": [
       "<Figure size 792x576 with 1 Axes>"
      ]
     },
     "metadata": {
      "needs_background": "light"
     },
     "output_type": "display_data"
    }
   ],
   "source": [
    "plot_histogram(loan_df, 'Total_Income', 'Total Applicant Income')"
   ]
  },
  {
   "cell_type": "markdown",
   "id": "7efd7972",
   "metadata": {},
   "source": [
    "The total income districution is very similar to what we've observed with the Applicant and Co-applicant income with a right skew and outliers around £72000 - £81000. A bulk of applicants total income was within £1442 and £24000."
   ]
  },
  {
   "cell_type": "markdown",
   "id": "89d492e7",
   "metadata": {},
   "source": [
    "## Variable Correlation."
   ]
  },
  {
   "cell_type": "code",
   "execution_count": 11,
   "id": "1add27d4",
   "metadata": {},
   "outputs": [],
   "source": [
    "# Function to plot a scatter diagram that shows the correlation between two variables.\n",
    "\n",
    "def make_scatter_plot(df, column1, column2, title):\n",
    "    \"\"\"\n",
    "    df = DataFrame object.\n",
    "    column1 = column name of the first variable.\n",
    "    column2 = column name of the second variable.\n",
    "    title = desired title of the plot.\n",
    "    \"\"\"\n",
    "    plt.scatter(df[column1], df[column2])\n",
    "    plt.title(title)\n",
    "    plt.xlabel(column1)\n",
    "    plt.ylabel(column2)\n",
    "    plt.show()"
   ]
  },
  {
   "cell_type": "code",
   "execution_count": 12,
   "id": "d1e9ad19",
   "metadata": {},
   "outputs": [],
   "source": [
    "# Function to make a boxplot.\n",
    "\n",
    "def make_box_plot(df, column1, column2):\n",
    "    \"\"\"\n",
    "    df = DataFrame object.\n",
    "    column1 = column name of the variable.\n",
    "    title = desired title of the plot.\n",
    "    \"\"\"\n",
    "    df.boxplot(column=column1, by=column2, figsize=(8,6))"
   ]
  },
  {
   "cell_type": "code",
   "execution_count": 13,
   "id": "0235a611",
   "metadata": {},
   "outputs": [],
   "source": [
    "# Function to display the coefficient of pearson correlation between two variables.\n",
    "\n",
    "def show_correlation(df, column1, column2):\n",
    "    \"\"\"\n",
    "    df = DataFrame object.\n",
    "    column1 = column name of the first variable.\n",
    "    column2 = column name of the second variable.\n",
    "    \"\"\"\n",
    "    corr = df[column1].corr(df[column2], method='pearson')\n",
    "    print(corr)"
   ]
  },
  {
   "cell_type": "markdown",
   "id": "d0cb696a",
   "metadata": {},
   "source": [
    "<h3>1. Applicant Income vs Loan amount</h3>"
   ]
  },
  {
   "cell_type": "code",
   "execution_count": 27,
   "id": "8254648e",
   "metadata": {},
   "outputs": [
    {
     "data": {
      "image/png": "[encoded data removed]",
      "text/plain": [
       "<Figure size 432x288 with 1 Axes>"
      ]
     },
     "metadata": {
      "needs_background": "light"
     },
     "output_type": "display_data"
    },
    {
     "name": "stdout",
     "output_type": "stream",
     "text": [
      "0.5770429809886392\n"
     ]
    }
   ],
   "source": [
    "# Display illustration and correlation between the Applicant income \n",
    "# and loan amount on a scatter plot.\n",
    "\n",
    "make_scatter_plot(loan_df, 'ApplicantIncome', 'LoanAmount', 'Applicant Income vs Loan Amount')\n",
    "show_correlation(loan_df, 'ApplicantIncome', 'LoanAmount')"
   ]
  },
  {
   "cell_type": "markdown",
   "id": "fe4cb073",
   "metadata": {},
   "source": [
    "The scatter plot shown above illustrates the correlation between the Applicant's Income and the Loan Amount, as we may have guessed it highlights a positive correlation which is confirmed by the correlation coefficient of 0.577 which denotes an average degree of positive correlation. "
   ]
  },
  {
   "cell_type": "markdown",
   "id": "7fa7b260",
   "metadata": {},
   "source": [
    "<h3>2. Total Income vs Loan Amount</h3>"
   ]
  },
  {
   "cell_type": "code",
   "execution_count": 28,
   "id": "a5cc6d89",
   "metadata": {},
   "outputs": [
    {
     "data": {
      "image/png": "[encoded data removed]",
      "text/plain": [
       "<Figure size 432x288 with 1 Axes>"
      ]
     },
     "metadata": {
      "needs_background": "light"
     },
     "output_type": "display_data"
    },
    {
     "name": "stdout",
     "output_type": "stream",
     "text": [
      "0.6360064156336597\n"
     ]
    }
   ],
   "source": [
    "# Display illustration and correlation between the applicant income \n",
    "# and loan amount on a scatter plot.\n",
    "\n",
    "make_scatter_plot(loan_df, 'Total_Income', 'LoanAmount', 'Total Income vs Loan Amount')\n",
    "show_correlation(loan_df, 'Total_Income', 'LoanAmount')"
   ]
  },
  {
   "cell_type": "markdown",
   "id": "a7f026e5",
   "metadata": {},
   "source": [
    "The scatter plot for total income vs loan amount is very similar to what we saw with that of applicant's income. This particular plot illustrates a more positive corelation between both variables confirmed by a much higher pearson correlation coefficient of 0.636."
   ]
  },
  {
   "cell_type": "markdown",
   "id": "9727ac26",
   "metadata": {},
   "source": [
    "<h3>3. Loan Amount grouped by Property Area of Applicant.</h3>"
   ]
  },
  {
   "cell_type": "code",
   "execution_count": 41,
   "id": "8d86c4f0",
   "metadata": {},
   "outputs": [
    {
     "data": {
      "image/png": "[encoded data removed]",
      "text/plain": [
       "<Figure size 576x432 with 1 Axes>"
      ]
     },
     "metadata": {
      "needs_background": "light"
     },
     "output_type": "display_data"
    }
   ],
   "source": [
    "make_box_plot(loan_df, 'LoanAmount', 'Property_Area')"
   ]
  },
  {
   "cell_type": "markdown",
   "id": "5219b51f",
   "metadata": {},
   "source": [
    "The boxplot above shows the loan amount grouped by the property type of applicants. Fascinatingly, the median loan amount is very similar for the different property types. Noticeably, we can see the presence of many outliers across the different property areas evidenced by many data points outside the whiskers."
   ]
  },
  {
   "cell_type": "markdown",
   "id": "d4f51c22",
   "metadata": {},
   "source": [
    "<h3>4. Applicant Income by Employment Status.</h3>"
   ]
  },
  {
   "cell_type": "code",
   "execution_count": 50,
   "id": "3f554408",
   "metadata": {},
   "outputs": [
    {
     "data": {
      "image/png": "[encoded data removed]",
      "text/plain": [
       "<Figure size 576x432 with 1 Axes>"
      ]
     },
     "metadata": {
      "needs_background": "light"
     },
     "output_type": "display_data"
    }
   ],
   "source": [
    "make_box_plot(loan_df, 'ApplicantIncome', 'Self_Employed')"
   ]
  },
  {
   "cell_type": "markdown",
   "id": "734acef0",
   "metadata": {},
   "source": [
    "The boxplot above shows the applicants income by employment status. Self Employed applicants had fewer outlier values outside the whisker but interstingly, the applicants with the highest income were not self employed."
   ]
  },
  {
   "cell_type": "code",
   "execution_count": 21,
   "id": "161decf5",
   "metadata": {},
   "outputs": [
    {
     "data": {
      "image/png": "[encoded data removed]",
      "text/plain": [
       "<Figure size 1080x720 with 2 Axes>"
      ]
     },
     "metadata": {
      "needs_background": "light"
     },
     "output_type": "display_data"
    }
   ],
   "source": [
    "# Display the correlation between independent variables in the dataset.\n",
    "\n",
    "corr = loan_df.corr()\n",
    "plt.subplots(figsize=(15,10))\n",
    "sns.heatmap(corr, annot=True, square=True)\n",
    "plt.yticks(rotation=0)\n",
    "plt.show()"
   ]
  },
  {
   "cell_type": "markdown",
   "id": "96ba1838",
   "metadata": {},
   "source": [
    "A quick glance at the heatmap showing the correlation between the independent variables in the data set indicates that there's very low correlation between almost all the variables with the loan amount and total income and applicant's income showing medium correlation with coefficients of 0.64 and 0.58 respectively. This indicates that there's not so much multicollinearity among the independent variables which bode well for a potential model fit of the dataset although it must be pointed out the extremely high correlation coefficient between the Total Income and Applicant's Income due to being a direct product."
   ]
  },
  {
   "cell_type": "markdown",
   "id": "df7afacb",
   "metadata": {},
   "source": [
    "## Further Variable Analysis"
   ]
  },
  {
   "cell_type": "code",
   "execution_count": null,
   "id": "2bb91f02",
   "metadata": {},
   "outputs": [],
   "source": [
    "# Create a contingency table to highlight the marital status by gender.\n",
    "\n",
    "def make_cont_table(df, column1, column2):\n",
    "    cont_table = pd.crosstab(df[column1], df[column2])\n",
    "    cont_table.plot(kind =\"bar\",stacked =False, rot=0)\n",
    "    return cont_table"
   ]
  },
  {
   "cell_type": "markdown",
   "id": "4298da30",
   "metadata": {},
   "source": [
    "<h3>Gender and Marital Status</h3>"
   ]
  },
  {
   "cell_type": "code",
   "execution_count": 55,
   "id": "2965effd",
   "metadata": {},
   "outputs": [
    {
     "data": {
      "image/png": "[encoded data removed]",
      "text/plain": [
       "<Figure size 432x288 with 1 Axes>"
      ]
     },
     "metadata": {
      "needs_background": "light"
     },
     "output_type": "display_data"
    }
   ],
   "source": [
    "cont = make_cont_table(loan_df, 'Gender', 'Married')"
   ]
  },
  {
   "cell_type": "markdown",
   "id": "1328bd4b",
   "metadata": {},
   "source": [
    "The contingency table represents the observed frequencies of applicants by marital status and gender. \n",
    "\n",
    "From the contigency table and subsequent bar graph illustration, it is hard to really establish whether there's significant dependence of the marital status on an applicant's gender. A huge chunk of the males in the dataset (300 of 409) were married as opposed to the females whose majority were single (66 of 91)."
   ]
  },
  {
   "cell_type": "code",
   "execution_count": 56,
   "id": "2c4593b5",
   "metadata": {},
   "outputs": [
    {
     "name": "stdout",
     "output_type": "stream",
     "text": [
      "p-value:2.9086066950743696e-16\n"
     ]
    }
   ],
   "source": [
    "# Perform a chi squared test on the two variables to determine their independence\n",
    "\n",
    "from scipy import stats\n",
    "\n",
    "chi2,p_val,dof,expected=stats.chi2_contingency(cont)\n",
    "print(f\"p-value:{p_val}\")"
   ]
  },
  {
   "cell_type": "markdown",
   "id": "ce2a456e",
   "metadata": {},
   "source": [
    "After conducting a chi squared test on the marital status and gender, the observed p-value was very minute and greatly less than the usual significance level of 0.05. Therefore, **we reject the null hypothesis that there is indeed no dependence between the gender and marital status of an applicant**. \n",
    "\n",
    "Indeed it was more likely for a married applicant to be male as proved by the statistical test."
   ]
  },
  {
   "cell_type": "markdown",
   "id": "bda16926",
   "metadata": {},
   "source": [
    "<h3>Gender and Loan Status</h3>"
   ]
  },
  {
   "cell_type": "code",
   "execution_count": 61,
   "id": "5184ae8b",
   "metadata": {},
   "outputs": [
    {
     "data": {
      "text/html": [
       "<div>\n",
       "<style scoped>\n",
       "    .dataframe tbody tr th:only-of-type {\n",
       "        vertical-align: middle;\n",
       "    }\n",
       "\n",
       "    .dataframe tbody tr th {\n",
       "        vertical-align: top;\n",
       "    }\n",
       "\n",
       "    .dataframe thead th {\n",
       "        text-align: right;\n",
       "    }\n",
       "</style>\n",
       "<table border=\"1\" class=\"dataframe\">\n",
       "  <thead>\n",
       "    <tr style=\"text-align: right;\">\n",
       "      <th></th>\n",
       "      <th>Loan_ID</th>\n",
       "      <th>Gender</th>\n",
       "      <th>Married</th>\n",
       "      <th>Dependents</th>\n",
       "      <th>Education</th>\n",
       "      <th>Self_Employed</th>\n",
       "      <th>Property_Area</th>\n",
       "      <th>Loan_Status</th>\n",
       "      <th>Total_Income</th>\n",
       "      <th>Unnamed: 0</th>\n",
       "      <th>ApplicantIncome</th>\n",
       "      <th>CoapplicantIncome</th>\n",
       "      <th>LoanAmount</th>\n",
       "      <th>Loan_Amount_Term</th>\n",
       "      <th>Credit_History</th>\n",
       "    </tr>\n",
       "  </thead>\n",
       "  <tbody>\n",
       "    <tr>\n",
       "      <th>0</th>\n",
       "      <td>LP001002</td>\n",
       "      <td>Male</td>\n",
       "      <td>No</td>\n",
       "      <td>0</td>\n",
       "      <td>Graduate</td>\n",
       "      <td>No</td>\n",
       "      <td>Urban</td>\n",
       "      <td>Y</td>\n",
       "      <td>5849.0</td>\n",
       "      <td>0.0</td>\n",
       "      <td>5849.0</td>\n",
       "      <td>0.0</td>\n",
       "      <td>126.5</td>\n",
       "      <td>360.0</td>\n",
       "      <td>1.0</td>\n",
       "    </tr>\n",
       "    <tr>\n",
       "      <th>2</th>\n",
       "      <td>LP001005</td>\n",
       "      <td>Male</td>\n",
       "      <td>Yes</td>\n",
       "      <td>0</td>\n",
       "      <td>Graduate</td>\n",
       "      <td>Yes</td>\n",
       "      <td>Urban</td>\n",
       "      <td>Y</td>\n",
       "      <td>3000.0</td>\n",
       "      <td>2.0</td>\n",
       "      <td>3000.0</td>\n",
       "      <td>0.0</td>\n",
       "      <td>66.0</td>\n",
       "      <td>360.0</td>\n",
       "      <td>1.0</td>\n",
       "    </tr>\n",
       "    <tr>\n",
       "      <th>3</th>\n",
       "      <td>LP001006</td>\n",
       "      <td>Male</td>\n",
       "      <td>Yes</td>\n",
       "      <td>0</td>\n",
       "      <td>Not Graduate</td>\n",
       "      <td>No</td>\n",
       "      <td>Urban</td>\n",
       "      <td>Y</td>\n",
       "      <td>4941.0</td>\n",
       "      <td>3.0</td>\n",
       "      <td>2583.0</td>\n",
       "      <td>2358.0</td>\n",
       "      <td>120.0</td>\n",
       "      <td>360.0</td>\n",
       "      <td>1.0</td>\n",
       "    </tr>\n",
       "    <tr>\n",
       "      <th>4</th>\n",
       "      <td>LP001008</td>\n",
       "      <td>Male</td>\n",
       "      <td>No</td>\n",
       "      <td>0</td>\n",
       "      <td>Graduate</td>\n",
       "      <td>No</td>\n",
       "      <td>Urban</td>\n",
       "      <td>Y</td>\n",
       "      <td>6000.0</td>\n",
       "      <td>4.0</td>\n",
       "      <td>6000.0</td>\n",
       "      <td>0.0</td>\n",
       "      <td>141.0</td>\n",
       "      <td>360.0</td>\n",
       "      <td>1.0</td>\n",
       "    </tr>\n",
       "    <tr>\n",
       "      <th>5</th>\n",
       "      <td>LP001011</td>\n",
       "      <td>Male</td>\n",
       "      <td>Yes</td>\n",
       "      <td>2</td>\n",
       "      <td>Graduate</td>\n",
       "      <td>Yes</td>\n",
       "      <td>Urban</td>\n",
       "      <td>Y</td>\n",
       "      <td>9613.0</td>\n",
       "      <td>5.0</td>\n",
       "      <td>5417.0</td>\n",
       "      <td>4196.0</td>\n",
       "      <td>267.0</td>\n",
       "      <td>360.0</td>\n",
       "      <td>1.0</td>\n",
       "    </tr>\n",
       "  </tbody>\n",
       "</table>\n",
       "</div>"
      ],
      "text/plain": [
       "    Loan_ID Gender Married Dependents     Education Self_Employed  \\\n",
       "0  LP001002   Male      No          0      Graduate            No   \n",
       "2  LP001005   Male     Yes          0      Graduate           Yes   \n",
       "3  LP001006   Male     Yes          0  Not Graduate            No   \n",
       "4  LP001008   Male      No          0      Graduate            No   \n",
       "5  LP001011   Male     Yes          2      Graduate           Yes   \n",
       "\n",
       "  Property_Area Loan_Status  Total_Income  Unnamed: 0  ApplicantIncome  \\\n",
       "0         Urban           Y        5849.0         0.0           5849.0   \n",
       "2         Urban           Y        3000.0         2.0           3000.0   \n",
       "3         Urban           Y        4941.0         3.0           2583.0   \n",
       "4         Urban           Y        6000.0         4.0           6000.0   \n",
       "5         Urban           Y        9613.0         5.0           5417.0   \n",
       "\n",
       "   CoapplicantIncome  LoanAmount  Loan_Amount_Term  Credit_History  \n",
       "0                0.0       126.5             360.0             1.0  \n",
       "2                0.0        66.0             360.0             1.0  \n",
       "3             2358.0       120.0             360.0             1.0  \n",
       "4                0.0       141.0             360.0             1.0  \n",
       "5             4196.0       267.0             360.0             1.0  "
      ]
     },
     "execution_count": 61,
     "metadata": {},
     "output_type": "execute_result"
    }
   ],
   "source": [
    "# Creates a new Dataframe of Men whose loan amount exceeded the average.\n",
    "\n",
    "subset_male = loan_df[(loan_df.Gender==\"Male\")&(loan_df.Loan_Status=='Y')]\n",
    "subset_male.head()"
   ]
  },
  {
   "cell_type": "code",
   "execution_count": 62,
   "id": "3aa421b9",
   "metadata": {},
   "outputs": [
    {
     "data": {
      "text/html": [
       "<div>\n",
       "<style scoped>\n",
       "    .dataframe tbody tr th:only-of-type {\n",
       "        vertical-align: middle;\n",
       "    }\n",
       "\n",
       "    .dataframe tbody tr th {\n",
       "        vertical-align: top;\n",
       "    }\n",
       "\n",
       "    .dataframe thead th {\n",
       "        text-align: right;\n",
       "    }\n",
       "</style>\n",
       "<table border=\"1\" class=\"dataframe\">\n",
       "  <thead>\n",
       "    <tr style=\"text-align: right;\">\n",
       "      <th></th>\n",
       "      <th>Total_Income</th>\n",
       "      <th>Unnamed: 0</th>\n",
       "      <th>ApplicantIncome</th>\n",
       "      <th>CoapplicantIncome</th>\n",
       "      <th>LoanAmount</th>\n",
       "      <th>Loan_Amount_Term</th>\n",
       "      <th>Credit_History</th>\n",
       "    </tr>\n",
       "  </thead>\n",
       "  <tbody>\n",
       "    <tr>\n",
       "      <th>count</th>\n",
       "      <td>285.000000</td>\n",
       "      <td>285.000000</td>\n",
       "      <td>285.00000</td>\n",
       "      <td>285.000000</td>\n",
       "      <td>285.000000</td>\n",
       "      <td>285.000000</td>\n",
       "      <td>285.000000</td>\n",
       "    </tr>\n",
       "    <tr>\n",
       "      <th>mean</th>\n",
       "      <td>7181.589193</td>\n",
       "      <td>249.985965</td>\n",
       "      <td>5537.85614</td>\n",
       "      <td>1643.733053</td>\n",
       "      <td>143.873684</td>\n",
       "      <td>338.021053</td>\n",
       "      <td>0.982456</td>\n",
       "    </tr>\n",
       "    <tr>\n",
       "      <th>std</th>\n",
       "      <td>6460.149212</td>\n",
       "      <td>144.408726</td>\n",
       "      <td>6457.35067</td>\n",
       "      <td>2023.663271</td>\n",
       "      <td>82.040042</td>\n",
       "      <td>66.850787</td>\n",
       "      <td>0.131517</td>\n",
       "    </tr>\n",
       "    <tr>\n",
       "      <th>min</th>\n",
       "      <td>2385.000000</td>\n",
       "      <td>0.000000</td>\n",
       "      <td>674.00000</td>\n",
       "      <td>0.000000</td>\n",
       "      <td>17.000000</td>\n",
       "      <td>12.000000</td>\n",
       "      <td>0.000000</td>\n",
       "    </tr>\n",
       "    <tr>\n",
       "      <th>25%</th>\n",
       "      <td>4403.000000</td>\n",
       "      <td>126.000000</td>\n",
       "      <td>2833.00000</td>\n",
       "      <td>0.000000</td>\n",
       "      <td>102.000000</td>\n",
       "      <td>360.000000</td>\n",
       "      <td>1.000000</td>\n",
       "    </tr>\n",
       "    <tr>\n",
       "      <th>50%</th>\n",
       "      <td>5529.000000</td>\n",
       "      <td>247.000000</td>\n",
       "      <td>3900.00000</td>\n",
       "      <td>1447.000000</td>\n",
       "      <td>126.500000</td>\n",
       "      <td>360.000000</td>\n",
       "      <td>1.000000</td>\n",
       "    </tr>\n",
       "    <tr>\n",
       "      <th>75%</th>\n",
       "      <td>7740.000000</td>\n",
       "      <td>376.000000</td>\n",
       "      <td>5819.00000</td>\n",
       "      <td>2340.000000</td>\n",
       "      <td>162.000000</td>\n",
       "      <td>360.000000</td>\n",
       "      <td>1.000000</td>\n",
       "    </tr>\n",
       "    <tr>\n",
       "      <th>max</th>\n",
       "      <td>63337.000000</td>\n",
       "      <td>498.000000</td>\n",
       "      <td>63337.00000</td>\n",
       "      <td>20000.000000</td>\n",
       "      <td>700.000000</td>\n",
       "      <td>480.000000</td>\n",
       "      <td>1.000000</td>\n",
       "    </tr>\n",
       "  </tbody>\n",
       "</table>\n",
       "</div>"
      ],
      "text/plain": [
       "       Total_Income  Unnamed: 0  ApplicantIncome  CoapplicantIncome  \\\n",
       "count    285.000000  285.000000        285.00000         285.000000   \n",
       "mean    7181.589193  249.985965       5537.85614        1643.733053   \n",
       "std     6460.149212  144.408726       6457.35067        2023.663271   \n",
       "min     2385.000000    0.000000        674.00000           0.000000   \n",
       "25%     4403.000000  126.000000       2833.00000           0.000000   \n",
       "50%     5529.000000  247.000000       3900.00000        1447.000000   \n",
       "75%     7740.000000  376.000000       5819.00000        2340.000000   \n",
       "max    63337.000000  498.000000      63337.00000       20000.000000   \n",
       "\n",
       "       LoanAmount  Loan_Amount_Term  Credit_History  \n",
       "count  285.000000        285.000000      285.000000  \n",
       "mean   143.873684        338.021053        0.982456  \n",
       "std     82.040042         66.850787        0.131517  \n",
       "min     17.000000         12.000000        0.000000  \n",
       "25%    102.000000        360.000000        1.000000  \n",
       "50%    126.500000        360.000000        1.000000  \n",
       "75%    162.000000        360.000000        1.000000  \n",
       "max    700.000000        480.000000        1.000000  "
      ]
     },
     "execution_count": 62,
     "metadata": {},
     "output_type": "execute_result"
    }
   ],
   "source": [
    "subset_male.describe()"
   ]
  },
  {
   "cell_type": "code",
   "execution_count": null,
   "id": "59009504",
   "metadata": {},
   "outputs": [
    {
     "data": {
      "text/html": [
       "<div>\n",
       "<style scoped>\n",
       "    .dataframe tbody tr th:only-of-type {\n",
       "        vertical-align: middle;\n",
       "    }\n",
       "\n",
       "    .dataframe tbody tr th {\n",
       "        vertical-align: top;\n",
       "    }\n",
       "\n",
       "    .dataframe thead th {\n",
       "        text-align: right;\n",
       "    }\n",
       "</style>\n",
       "<table border=\"1\" class=\"dataframe\">\n",
       "  <thead>\n",
       "    <tr style=\"text-align: right;\">\n",
       "      <th></th>\n",
       "      <th>Loan_ID</th>\n",
       "      <th>Gender</th>\n",
       "      <th>Married</th>\n",
       "      <th>Dependents</th>\n",
       "      <th>Education</th>\n",
       "      <th>Self_Employed</th>\n",
       "      <th>Property_Area</th>\n",
       "      <th>Loan_Status</th>\n",
       "      <th>Total_Income</th>\n",
       "      <th>Unnamed: 0</th>\n",
       "      <th>ApplicantIncome</th>\n",
       "      <th>CoapplicantIncome</th>\n",
       "      <th>LoanAmount</th>\n",
       "      <th>Loan_Amount_Term</th>\n",
       "      <th>Credit_History</th>\n",
       "    </tr>\n",
       "  </thead>\n",
       "  <tbody>\n",
       "    <tr>\n",
       "      <th>29</th>\n",
       "      <td>LP001087</td>\n",
       "      <td>Female</td>\n",
       "      <td>No</td>\n",
       "      <td>2</td>\n",
       "      <td>Graduate</td>\n",
       "      <td>No</td>\n",
       "      <td>Semiurban</td>\n",
       "      <td>Y</td>\n",
       "      <td>5833.0</td>\n",
       "      <td>29.0</td>\n",
       "      <td>3750.0</td>\n",
       "      <td>2083.0</td>\n",
       "      <td>120.0</td>\n",
       "      <td>360.0</td>\n",
       "      <td>1.0</td>\n",
       "    </tr>\n",
       "    <tr>\n",
       "      <th>37</th>\n",
       "      <td>LP001112</td>\n",
       "      <td>Female</td>\n",
       "      <td>Yes</td>\n",
       "      <td>0</td>\n",
       "      <td>Graduate</td>\n",
       "      <td>No</td>\n",
       "      <td>Semiurban</td>\n",
       "      <td>Y</td>\n",
       "      <td>5126.0</td>\n",
       "      <td>37.0</td>\n",
       "      <td>3667.0</td>\n",
       "      <td>1459.0</td>\n",
       "      <td>144.0</td>\n",
       "      <td>360.0</td>\n",
       "      <td>1.0</td>\n",
       "    </tr>\n",
       "    <tr>\n",
       "      <th>45</th>\n",
       "      <td>LP001137</td>\n",
       "      <td>Female</td>\n",
       "      <td>No</td>\n",
       "      <td>0</td>\n",
       "      <td>Graduate</td>\n",
       "      <td>No</td>\n",
       "      <td>Urban</td>\n",
       "      <td>Y</td>\n",
       "      <td>3410.0</td>\n",
       "      <td>45.0</td>\n",
       "      <td>3410.0</td>\n",
       "      <td>0.0</td>\n",
       "      <td>88.0</td>\n",
       "      <td>360.0</td>\n",
       "      <td>1.0</td>\n",
       "    </tr>\n",
       "    <tr>\n",
       "      <th>49</th>\n",
       "      <td>LP001151</td>\n",
       "      <td>Female</td>\n",
       "      <td>No</td>\n",
       "      <td>0</td>\n",
       "      <td>Graduate</td>\n",
       "      <td>No</td>\n",
       "      <td>Semiurban</td>\n",
       "      <td>Y</td>\n",
       "      <td>6275.0</td>\n",
       "      <td>49.0</td>\n",
       "      <td>4000.0</td>\n",
       "      <td>2275.0</td>\n",
       "      <td>144.0</td>\n",
       "      <td>360.0</td>\n",
       "      <td>1.0</td>\n",
       "    </tr>\n",
       "    <tr>\n",
       "      <th>50</th>\n",
       "      <td>LP001155</td>\n",
       "      <td>Female</td>\n",
       "      <td>Yes</td>\n",
       "      <td>0</td>\n",
       "      <td>Not Graduate</td>\n",
       "      <td>No</td>\n",
       "      <td>Semiurban</td>\n",
       "      <td>Y</td>\n",
       "      <td>3572.0</td>\n",
       "      <td>50.0</td>\n",
       "      <td>1928.0</td>\n",
       "      <td>1644.0</td>\n",
       "      <td>100.0</td>\n",
       "      <td>360.0</td>\n",
       "      <td>1.0</td>\n",
       "    </tr>\n",
       "  </tbody>\n",
       "</table>\n",
       "</div>"
      ],
      "text/plain": [
       "     Loan_ID  Gender Married Dependents     Education Self_Employed  \\\n",
       "29  LP001087  Female      No          2      Graduate            No   \n",
       "37  LP001112  Female     Yes          0      Graduate            No   \n",
       "45  LP001137  Female      No          0      Graduate            No   \n",
       "49  LP001151  Female      No          0      Graduate            No   \n",
       "50  LP001155  Female     Yes          0  Not Graduate            No   \n",
       "\n",
       "   Property_Area Loan_Status  Total_Income  Unnamed: 0  ApplicantIncome  \\\n",
       "29     Semiurban           Y        5833.0        29.0           3750.0   \n",
       "37     Semiurban           Y        5126.0        37.0           3667.0   \n",
       "45         Urban           Y        3410.0        45.0           3410.0   \n",
       "49     Semiurban           Y        6275.0        49.0           4000.0   \n",
       "50     Semiurban           Y        3572.0        50.0           1928.0   \n",
       "\n",
       "    CoapplicantIncome  LoanAmount  Loan_Amount_Term  Credit_History  \n",
       "29             2083.0       120.0             360.0             1.0  \n",
       "37             1459.0       144.0             360.0             1.0  \n",
       "45                0.0        88.0             360.0             1.0  \n",
       "49             2275.0       144.0             360.0             1.0  \n",
       "50             1644.0       100.0             360.0             1.0  "
      ]
     },
     "metadata": {},
     "output_type": "display_data"
    }
   ],
   "source": [
    "subset_female = loan_df[(loan_df.Gender==\"Female\")&(loan_df.Loan_Status=='Y')]\n",
    "subset_female.head()"
   ]
  },
  {
   "cell_type": "code",
   "execution_count": 66,
   "id": "92998fd9",
   "metadata": {},
   "outputs": [
    {
     "data": {
      "text/html": [
       "<div>\n",
       "<style scoped>\n",
       "    .dataframe tbody tr th:only-of-type {\n",
       "        vertical-align: middle;\n",
       "    }\n",
       "\n",
       "    .dataframe tbody tr th {\n",
       "        vertical-align: top;\n",
       "    }\n",
       "\n",
       "    .dataframe thead th {\n",
       "        text-align: right;\n",
       "    }\n",
       "</style>\n",
       "<table border=\"1\" class=\"dataframe\">\n",
       "  <thead>\n",
       "    <tr style=\"text-align: right;\">\n",
       "      <th></th>\n",
       "      <th>Total_Income</th>\n",
       "      <th>Unnamed: 0</th>\n",
       "      <th>ApplicantIncome</th>\n",
       "      <th>CoapplicantIncome</th>\n",
       "      <th>LoanAmount</th>\n",
       "      <th>Loan_Amount_Term</th>\n",
       "      <th>Credit_History</th>\n",
       "    </tr>\n",
       "  </thead>\n",
       "  <tbody>\n",
       "    <tr>\n",
       "      <th>count</th>\n",
       "      <td>60.000000</td>\n",
       "      <td>60.000000</td>\n",
       "      <td>60.000000</td>\n",
       "      <td>60.000000</td>\n",
       "      <td>60.000000</td>\n",
       "      <td>60.000000</td>\n",
       "      <td>60.000000</td>\n",
       "    </tr>\n",
       "    <tr>\n",
       "      <th>mean</th>\n",
       "      <td>5377.800000</td>\n",
       "      <td>264.266667</td>\n",
       "      <td>4559.800000</td>\n",
       "      <td>818.000000</td>\n",
       "      <td>117.716667</td>\n",
       "      <td>350.400000</td>\n",
       "      <td>0.983333</td>\n",
       "    </tr>\n",
       "    <tr>\n",
       "      <th>std</th>\n",
       "      <td>3162.652919</td>\n",
       "      <td>135.606593</td>\n",
       "      <td>3284.149833</td>\n",
       "      <td>1533.469203</td>\n",
       "      <td>47.929978</td>\n",
       "      <td>44.616331</td>\n",
       "      <td>0.129099</td>\n",
       "    </tr>\n",
       "    <tr>\n",
       "      <th>min</th>\n",
       "      <td>1963.000000</td>\n",
       "      <td>29.000000</td>\n",
       "      <td>210.000000</td>\n",
       "      <td>0.000000</td>\n",
       "      <td>30.000000</td>\n",
       "      <td>84.000000</td>\n",
       "      <td>0.000000</td>\n",
       "    </tr>\n",
       "    <tr>\n",
       "      <th>25%</th>\n",
       "      <td>3473.500000</td>\n",
       "      <td>140.000000</td>\n",
       "      <td>2906.750000</td>\n",
       "      <td>0.000000</td>\n",
       "      <td>92.250000</td>\n",
       "      <td>360.000000</td>\n",
       "      <td>1.000000</td>\n",
       "    </tr>\n",
       "    <tr>\n",
       "      <th>50%</th>\n",
       "      <td>4311.000000</td>\n",
       "      <td>274.500000</td>\n",
       "      <td>3646.000000</td>\n",
       "      <td>0.000000</td>\n",
       "      <td>118.000000</td>\n",
       "      <td>360.000000</td>\n",
       "      <td>1.000000</td>\n",
       "    </tr>\n",
       "    <tr>\n",
       "      <th>75%</th>\n",
       "      <td>6171.250000</td>\n",
       "      <td>371.000000</td>\n",
       "      <td>4442.750000</td>\n",
       "      <td>1581.000000</td>\n",
       "      <td>135.000000</td>\n",
       "      <td>360.000000</td>\n",
       "      <td>1.000000</td>\n",
       "    </tr>\n",
       "    <tr>\n",
       "      <th>max</th>\n",
       "      <td>17263.000000</td>\n",
       "      <td>495.000000</td>\n",
       "      <td>17263.000000</td>\n",
       "      <td>8980.000000</td>\n",
       "      <td>280.000000</td>\n",
       "      <td>360.000000</td>\n",
       "      <td>1.000000</td>\n",
       "    </tr>\n",
       "  </tbody>\n",
       "</table>\n",
       "</div>"
      ],
      "text/plain": [
       "       Total_Income  Unnamed: 0  ApplicantIncome  CoapplicantIncome  \\\n",
       "count     60.000000   60.000000        60.000000          60.000000   \n",
       "mean    5377.800000  264.266667      4559.800000         818.000000   \n",
       "std     3162.652919  135.606593      3284.149833        1533.469203   \n",
       "min     1963.000000   29.000000       210.000000           0.000000   \n",
       "25%     3473.500000  140.000000      2906.750000           0.000000   \n",
       "50%     4311.000000  274.500000      3646.000000           0.000000   \n",
       "75%     6171.250000  371.000000      4442.750000        1581.000000   \n",
       "max    17263.000000  495.000000     17263.000000        8980.000000   \n",
       "\n",
       "       LoanAmount  Loan_Amount_Term  Credit_History  \n",
       "count   60.000000         60.000000       60.000000  \n",
       "mean   117.716667        350.400000        0.983333  \n",
       "std     47.929978         44.616331        0.129099  \n",
       "min     30.000000         84.000000        0.000000  \n",
       "25%     92.250000        360.000000        1.000000  \n",
       "50%    118.000000        360.000000        1.000000  \n",
       "75%    135.000000        360.000000        1.000000  \n",
       "max    280.000000        360.000000        1.000000  "
      ]
     },
     "execution_count": 66,
     "metadata": {},
     "output_type": "execute_result"
    }
   ],
   "source": [
    "subset_female.describe()"
   ]
  },
  {
   "cell_type": "markdown",
   "id": "6e459c06",
   "metadata": {},
   "source": [
    "From the above table, there are 285 men whose loan request was approved in the dataset. This was a higher proportion of the total number of men in the dataset (285 of 409) and comparing with the women, 60 of the 91 women got their loan approved, this would indicate that gender was not indeed a factor that determined whether or not the applicant's loan request was approved. Although it must be noted that further tests could be carried out to verify the authenticity of this inference made based on this criteria."
   ]
  },
  {
   "cell_type": "markdown",
   "id": "3b518e37",
   "metadata": {},
   "source": [
    "<h3>Gender, Marital Status, Loan Amount and Loan Decision.</h3>"
   ]
  },
  {
   "cell_type": "code",
   "execution_count": 74,
   "id": "74c089a9",
   "metadata": {},
   "outputs": [
    {
     "data": {
      "text/html": [
       "<div>\n",
       "<style scoped>\n",
       "    .dataframe tbody tr th:only-of-type {\n",
       "        vertical-align: middle;\n",
       "    }\n",
       "\n",
       "    .dataframe tbody tr th {\n",
       "        vertical-align: top;\n",
       "    }\n",
       "\n",
       "    .dataframe thead th {\n",
       "        text-align: right;\n",
       "    }\n",
       "</style>\n",
       "<table border=\"1\" class=\"dataframe\">\n",
       "  <thead>\n",
       "    <tr style=\"text-align: right;\">\n",
       "      <th></th>\n",
       "      <th>Loan_ID</th>\n",
       "      <th>Gender</th>\n",
       "      <th>Married</th>\n",
       "      <th>Dependents</th>\n",
       "      <th>Education</th>\n",
       "      <th>Self_Employed</th>\n",
       "      <th>Property_Area</th>\n",
       "      <th>Loan_Status</th>\n",
       "      <th>Total_Income</th>\n",
       "      <th>Unnamed: 0</th>\n",
       "      <th>ApplicantIncome</th>\n",
       "      <th>CoapplicantIncome</th>\n",
       "      <th>LoanAmount</th>\n",
       "      <th>Loan_Amount_Term</th>\n",
       "      <th>Credit_History</th>\n",
       "    </tr>\n",
       "  </thead>\n",
       "  <tbody>\n",
       "    <tr>\n",
       "      <th>5</th>\n",
       "      <td>LP001011</td>\n",
       "      <td>Male</td>\n",
       "      <td>Yes</td>\n",
       "      <td>2</td>\n",
       "      <td>Graduate</td>\n",
       "      <td>Yes</td>\n",
       "      <td>Urban</td>\n",
       "      <td>Y</td>\n",
       "      <td>9613.0</td>\n",
       "      <td>5.0</td>\n",
       "      <td>5417.0</td>\n",
       "      <td>4196.0</td>\n",
       "      <td>267.0</td>\n",
       "      <td>360.0</td>\n",
       "      <td>1.0</td>\n",
       "    </tr>\n",
       "    <tr>\n",
       "      <th>8</th>\n",
       "      <td>LP001018</td>\n",
       "      <td>Male</td>\n",
       "      <td>Yes</td>\n",
       "      <td>2</td>\n",
       "      <td>Graduate</td>\n",
       "      <td>No</td>\n",
       "      <td>Urban</td>\n",
       "      <td>Y</td>\n",
       "      <td>5532.0</td>\n",
       "      <td>8.0</td>\n",
       "      <td>4006.0</td>\n",
       "      <td>1526.0</td>\n",
       "      <td>168.0</td>\n",
       "      <td>360.0</td>\n",
       "      <td>1.0</td>\n",
       "    </tr>\n",
       "    <tr>\n",
       "      <th>12</th>\n",
       "      <td>LP001028</td>\n",
       "      <td>Male</td>\n",
       "      <td>Yes</td>\n",
       "      <td>2</td>\n",
       "      <td>Graduate</td>\n",
       "      <td>No</td>\n",
       "      <td>Urban</td>\n",
       "      <td>Y</td>\n",
       "      <td>11179.0</td>\n",
       "      <td>12.0</td>\n",
       "      <td>3073.0</td>\n",
       "      <td>8106.0</td>\n",
       "      <td>200.0</td>\n",
       "      <td>360.0</td>\n",
       "      <td>1.0</td>\n",
       "    </tr>\n",
       "    <tr>\n",
       "      <th>21</th>\n",
       "      <td>LP001046</td>\n",
       "      <td>Male</td>\n",
       "      <td>Yes</td>\n",
       "      <td>1</td>\n",
       "      <td>Graduate</td>\n",
       "      <td>No</td>\n",
       "      <td>Urban</td>\n",
       "      <td>Y</td>\n",
       "      <td>11580.0</td>\n",
       "      <td>21.0</td>\n",
       "      <td>5955.0</td>\n",
       "      <td>5625.0</td>\n",
       "      <td>315.0</td>\n",
       "      <td>360.0</td>\n",
       "      <td>1.0</td>\n",
       "    </tr>\n",
       "    <tr>\n",
       "      <th>25</th>\n",
       "      <td>LP001066</td>\n",
       "      <td>Male</td>\n",
       "      <td>Yes</td>\n",
       "      <td>0</td>\n",
       "      <td>Graduate</td>\n",
       "      <td>Yes</td>\n",
       "      <td>Semiurban</td>\n",
       "      <td>Y</td>\n",
       "      <td>9560.0</td>\n",
       "      <td>25.0</td>\n",
       "      <td>9560.0</td>\n",
       "      <td>0.0</td>\n",
       "      <td>191.0</td>\n",
       "      <td>360.0</td>\n",
       "      <td>1.0</td>\n",
       "    </tr>\n",
       "  </tbody>\n",
       "</table>\n",
       "</div>"
      ],
      "text/plain": [
       "     Loan_ID Gender Married Dependents Education Self_Employed Property_Area  \\\n",
       "5   LP001011   Male     Yes          2  Graduate           Yes         Urban   \n",
       "8   LP001018   Male     Yes          2  Graduate            No         Urban   \n",
       "12  LP001028   Male     Yes          2  Graduate            No         Urban   \n",
       "21  LP001046   Male     Yes          1  Graduate            No         Urban   \n",
       "25  LP001066   Male     Yes          0  Graduate           Yes     Semiurban   \n",
       "\n",
       "   Loan_Status  Total_Income  Unnamed: 0  ApplicantIncome  CoapplicantIncome  \\\n",
       "5            Y        9613.0         5.0           5417.0             4196.0   \n",
       "8            Y        5532.0         8.0           4006.0             1526.0   \n",
       "12           Y       11179.0        12.0           3073.0             8106.0   \n",
       "21           Y       11580.0        21.0           5955.0             5625.0   \n",
       "25           Y        9560.0        25.0           9560.0                0.0   \n",
       "\n",
       "    LoanAmount  Loan_Amount_Term  Credit_History  \n",
       "5        267.0             360.0             1.0  \n",
       "8        168.0             360.0             1.0  \n",
       "12       200.0             360.0             1.0  \n",
       "21       315.0             360.0             1.0  \n",
       "25       191.0             360.0             1.0  "
      ]
     },
     "execution_count": 74,
     "metadata": {},
     "output_type": "execute_result"
    }
   ],
   "source": [
    "# Creates a DataFrame of married males whose loan amounts \n",
    "# exceeded the average and got approved.\n",
    "\n",
    "subset_married_male = loan_df[(loan_df.Married=='Yes') & (loan_df.Gender=='Male') \n",
    "                 & (loan_df.LoanAmount > 144) & (loan_df.Loan_Status=='Y')]\n",
    "subset_married_male.head()"
   ]
  },
  {
   "cell_type": "code",
   "execution_count": 75,
   "id": "f62c0668",
   "metadata": {},
   "outputs": [
    {
     "data": {
      "text/html": [
       "<div>\n",
       "<style scoped>\n",
       "    .dataframe tbody tr th:only-of-type {\n",
       "        vertical-align: middle;\n",
       "    }\n",
       "\n",
       "    .dataframe tbody tr th {\n",
       "        vertical-align: top;\n",
       "    }\n",
       "\n",
       "    .dataframe thead th {\n",
       "        text-align: right;\n",
       "    }\n",
       "</style>\n",
       "<table border=\"1\" class=\"dataframe\">\n",
       "  <thead>\n",
       "    <tr style=\"text-align: right;\">\n",
       "      <th></th>\n",
       "      <th>Loan_ID</th>\n",
       "      <th>Gender</th>\n",
       "      <th>Married</th>\n",
       "      <th>Dependents</th>\n",
       "      <th>Education</th>\n",
       "      <th>Self_Employed</th>\n",
       "      <th>Property_Area</th>\n",
       "      <th>Loan_Status</th>\n",
       "      <th>Total_Income</th>\n",
       "      <th>Unnamed: 0</th>\n",
       "      <th>ApplicantIncome</th>\n",
       "      <th>CoapplicantIncome</th>\n",
       "      <th>LoanAmount</th>\n",
       "      <th>Loan_Amount_Term</th>\n",
       "      <th>Credit_History</th>\n",
       "    </tr>\n",
       "  </thead>\n",
       "  <tbody>\n",
       "    <tr>\n",
       "      <th>count</th>\n",
       "      <td>75</td>\n",
       "      <td>75</td>\n",
       "      <td>75</td>\n",
       "      <td>75</td>\n",
       "      <td>75</td>\n",
       "      <td>75</td>\n",
       "      <td>75</td>\n",
       "      <td>75</td>\n",
       "      <td>75.000000</td>\n",
       "      <td>75.000000</td>\n",
       "      <td>75.000000</td>\n",
       "      <td>75.000000</td>\n",
       "      <td>75.000000</td>\n",
       "      <td>75.000000</td>\n",
       "      <td>75.000000</td>\n",
       "    </tr>\n",
       "    <tr>\n",
       "      <th>unique</th>\n",
       "      <td>75</td>\n",
       "      <td>1</td>\n",
       "      <td>1</td>\n",
       "      <td>4</td>\n",
       "      <td>2</td>\n",
       "      <td>2</td>\n",
       "      <td>3</td>\n",
       "      <td>1</td>\n",
       "      <td>NaN</td>\n",
       "      <td>NaN</td>\n",
       "      <td>NaN</td>\n",
       "      <td>NaN</td>\n",
       "      <td>NaN</td>\n",
       "      <td>NaN</td>\n",
       "      <td>NaN</td>\n",
       "    </tr>\n",
       "    <tr>\n",
       "      <th>top</th>\n",
       "      <td>LP001011</td>\n",
       "      <td>Male</td>\n",
       "      <td>Yes</td>\n",
       "      <td>0</td>\n",
       "      <td>Graduate</td>\n",
       "      <td>No</td>\n",
       "      <td>Semiurban</td>\n",
       "      <td>Y</td>\n",
       "      <td>NaN</td>\n",
       "      <td>NaN</td>\n",
       "      <td>NaN</td>\n",
       "      <td>NaN</td>\n",
       "      <td>NaN</td>\n",
       "      <td>NaN</td>\n",
       "      <td>NaN</td>\n",
       "    </tr>\n",
       "    <tr>\n",
       "      <th>freq</th>\n",
       "      <td>1</td>\n",
       "      <td>75</td>\n",
       "      <td>75</td>\n",
       "      <td>30</td>\n",
       "      <td>70</td>\n",
       "      <td>61</td>\n",
       "      <td>32</td>\n",
       "      <td>75</td>\n",
       "      <td>NaN</td>\n",
       "      <td>NaN</td>\n",
       "      <td>NaN</td>\n",
       "      <td>NaN</td>\n",
       "      <td>NaN</td>\n",
       "      <td>NaN</td>\n",
       "      <td>NaN</td>\n",
       "    </tr>\n",
       "    <tr>\n",
       "      <th>mean</th>\n",
       "      <td>NaN</td>\n",
       "      <td>NaN</td>\n",
       "      <td>NaN</td>\n",
       "      <td>NaN</td>\n",
       "      <td>NaN</td>\n",
       "      <td>NaN</td>\n",
       "      <td>NaN</td>\n",
       "      <td>NaN</td>\n",
       "      <td>10610.506667</td>\n",
       "      <td>255.200000</td>\n",
       "      <td>8459.200000</td>\n",
       "      <td>2151.306667</td>\n",
       "      <td>219.746667</td>\n",
       "      <td>339.200000</td>\n",
       "      <td>0.973333</td>\n",
       "    </tr>\n",
       "    <tr>\n",
       "      <th>std</th>\n",
       "      <td>NaN</td>\n",
       "      <td>NaN</td>\n",
       "      <td>NaN</td>\n",
       "      <td>NaN</td>\n",
       "      <td>NaN</td>\n",
       "      <td>NaN</td>\n",
       "      <td>NaN</td>\n",
       "      <td>NaN</td>\n",
       "      <td>9312.123065</td>\n",
       "      <td>138.966552</td>\n",
       "      <td>9841.361672</td>\n",
       "      <td>2250.024528</td>\n",
       "      <td>98.117290</td>\n",
       "      <td>58.765682</td>\n",
       "      <td>0.162192</td>\n",
       "    </tr>\n",
       "    <tr>\n",
       "      <th>min</th>\n",
       "      <td>NaN</td>\n",
       "      <td>NaN</td>\n",
       "      <td>NaN</td>\n",
       "      <td>NaN</td>\n",
       "      <td>NaN</td>\n",
       "      <td>NaN</td>\n",
       "      <td>NaN</td>\n",
       "      <td>NaN</td>\n",
       "      <td>4570.000000</td>\n",
       "      <td>5.000000</td>\n",
       "      <td>674.000000</td>\n",
       "      <td>0.000000</td>\n",
       "      <td>150.000000</td>\n",
       "      <td>180.000000</td>\n",
       "      <td>0.000000</td>\n",
       "    </tr>\n",
       "    <tr>\n",
       "      <th>25%</th>\n",
       "      <td>NaN</td>\n",
       "      <td>NaN</td>\n",
       "      <td>NaN</td>\n",
       "      <td>NaN</td>\n",
       "      <td>NaN</td>\n",
       "      <td>NaN</td>\n",
       "      <td>NaN</td>\n",
       "      <td>NaN</td>\n",
       "      <td>6294.000000</td>\n",
       "      <td>153.000000</td>\n",
       "      <td>4316.500000</td>\n",
       "      <td>0.000000</td>\n",
       "      <td>166.500000</td>\n",
       "      <td>360.000000</td>\n",
       "      <td>1.000000</td>\n",
       "    </tr>\n",
       "    <tr>\n",
       "      <th>50%</th>\n",
       "      <td>NaN</td>\n",
       "      <td>NaN</td>\n",
       "      <td>NaN</td>\n",
       "      <td>NaN</td>\n",
       "      <td>NaN</td>\n",
       "      <td>NaN</td>\n",
       "      <td>NaN</td>\n",
       "      <td>NaN</td>\n",
       "      <td>8334.000000</td>\n",
       "      <td>266.000000</td>\n",
       "      <td>5955.000000</td>\n",
       "      <td>1750.000000</td>\n",
       "      <td>186.000000</td>\n",
       "      <td>360.000000</td>\n",
       "      <td>1.000000</td>\n",
       "    </tr>\n",
       "    <tr>\n",
       "      <th>75%</th>\n",
       "      <td>NaN</td>\n",
       "      <td>NaN</td>\n",
       "      <td>NaN</td>\n",
       "      <td>NaN</td>\n",
       "      <td>NaN</td>\n",
       "      <td>NaN</td>\n",
       "      <td>NaN</td>\n",
       "      <td>NaN</td>\n",
       "      <td>10874.500000</td>\n",
       "      <td>353.000000</td>\n",
       "      <td>8708.000000</td>\n",
       "      <td>3304.000000</td>\n",
       "      <td>232.000000</td>\n",
       "      <td>360.000000</td>\n",
       "      <td>1.000000</td>\n",
       "    </tr>\n",
       "    <tr>\n",
       "      <th>max</th>\n",
       "      <td>NaN</td>\n",
       "      <td>NaN</td>\n",
       "      <td>NaN</td>\n",
       "      <td>NaN</td>\n",
       "      <td>NaN</td>\n",
       "      <td>NaN</td>\n",
       "      <td>NaN</td>\n",
       "      <td>NaN</td>\n",
       "      <td>63337.000000</td>\n",
       "      <td>491.000000</td>\n",
       "      <td>63337.000000</td>\n",
       "      <td>8333.000000</td>\n",
       "      <td>700.000000</td>\n",
       "      <td>480.000000</td>\n",
       "      <td>1.000000</td>\n",
       "    </tr>\n",
       "  </tbody>\n",
       "</table>\n",
       "</div>"
      ],
      "text/plain": [
       "         Loan_ID Gender Married Dependents Education Self_Employed  \\\n",
       "count         75     75      75         75        75            75   \n",
       "unique        75      1       1          4         2             2   \n",
       "top     LP001011   Male     Yes          0  Graduate            No   \n",
       "freq           1     75      75         30        70            61   \n",
       "mean         NaN    NaN     NaN        NaN       NaN           NaN   \n",
       "std          NaN    NaN     NaN        NaN       NaN           NaN   \n",
       "min          NaN    NaN     NaN        NaN       NaN           NaN   \n",
       "25%          NaN    NaN     NaN        NaN       NaN           NaN   \n",
       "50%          NaN    NaN     NaN        NaN       NaN           NaN   \n",
       "75%          NaN    NaN     NaN        NaN       NaN           NaN   \n",
       "max          NaN    NaN     NaN        NaN       NaN           NaN   \n",
       "\n",
       "       Property_Area Loan_Status  Total_Income  Unnamed: 0  ApplicantIncome  \\\n",
       "count             75          75     75.000000   75.000000        75.000000   \n",
       "unique             3           1           NaN         NaN              NaN   \n",
       "top        Semiurban           Y           NaN         NaN              NaN   \n",
       "freq              32          75           NaN         NaN              NaN   \n",
       "mean             NaN         NaN  10610.506667  255.200000      8459.200000   \n",
       "std              NaN         NaN   9312.123065  138.966552      9841.361672   \n",
       "min              NaN         NaN   4570.000000    5.000000       674.000000   \n",
       "25%              NaN         NaN   6294.000000  153.000000      4316.500000   \n",
       "50%              NaN         NaN   8334.000000  266.000000      5955.000000   \n",
       "75%              NaN         NaN  10874.500000  353.000000      8708.000000   \n",
       "max              NaN         NaN  63337.000000  491.000000     63337.000000   \n",
       "\n",
       "        CoapplicantIncome  LoanAmount  Loan_Amount_Term  Credit_History  \n",
       "count           75.000000   75.000000         75.000000       75.000000  \n",
       "unique                NaN         NaN               NaN             NaN  \n",
       "top                   NaN         NaN               NaN             NaN  \n",
       "freq                  NaN         NaN               NaN             NaN  \n",
       "mean          2151.306667  219.746667        339.200000        0.973333  \n",
       "std           2250.024528   98.117290         58.765682        0.162192  \n",
       "min              0.000000  150.000000        180.000000        0.000000  \n",
       "25%              0.000000  166.500000        360.000000        1.000000  \n",
       "50%           1750.000000  186.000000        360.000000        1.000000  \n",
       "75%           3304.000000  232.000000        360.000000        1.000000  \n",
       "max           8333.000000  700.000000        480.000000        1.000000  "
      ]
     },
     "execution_count": 75,
     "metadata": {},
     "output_type": "execute_result"
    }
   ],
   "source": [
    "# Display descriptive stats of the subset\n",
    "\n",
    "subset_married_male.describe(include='all')"
   ]
  },
  {
   "cell_type": "markdown",
   "id": "9c1b8a43",
   "metadata": {},
   "source": [
    "The above table indicates there are 75 married males whose loan amount exceeded the average of 143.27 and their request approved in the dataset."
   ]
  },
  {
   "cell_type": "code",
   "execution_count": 76,
   "id": "6448b554",
   "metadata": {},
   "outputs": [],
   "source": [
    "# Import Researchpy\n",
    "\n",
    "import researchpy as rp"
   ]
  },
  {
   "cell_type": "code",
   "execution_count": 78,
   "id": "c4f2ccf0",
   "metadata": {},
   "outputs": [
    {
     "name": "stdout",
     "output_type": "stream",
     "text": [
      "   Variable      N         Mean           SD          SE    95% Conf.  \\\n",
      "0      male  409.0  5720.706601  7045.189689  348.362210  5035.897783   \n",
      "1    female   91.0  4473.109890  3014.221633  315.976283  3845.367853   \n",
      "2  combined  500.0  5493.644000  6515.668972  291.389575  4921.142338   \n",
      "\n",
      "      Interval  \n",
      "0  6405.515420  \n",
      "1  5100.851928  \n",
      "2  6066.145662  \n"
     ]
    }
   ],
   "source": [
    "# Conduct a T-test on the means of the data subset distribution\n",
    "\n",
    "summary, results = rp.ttest(\n",
    "    group1= loan_df['ApplicantIncome'][loan_df['Gender']=='Male'],group1_name =\"male\",\n",
    "    group2= loan_df['ApplicantIncome'][loan_df['Gender']=='Female'], group2_name =\"female\")\n",
    "print(summary)"
   ]
  },
  {
   "cell_type": "markdown",
   "id": "cd0ccc96",
   "metadata": {},
   "source": [
    "From the summary results above, the average income of the male applicants was £5720.71 with standard deviation of 7045.19 and a 95% confidence interval mean of £5035.898 while the average income of female applicants was £4473.11, standard deviation of 3014.22 and a 95% confidence interval mean of £3845.37. This highlights a potential disparity in pay gap based on gender."
   ]
  },
  {
   "cell_type": "code",
   "execution_count": 79,
   "id": "633b647a",
   "metadata": {},
   "outputs": [
    {
     "name": "stdout",
     "output_type": "stream",
     "text": [
      "              Independent t-test    results\n",
      "0  Difference (male - female) =   1247.5967\n",
      "1          Degrees of freedom =    498.0000\n",
      "2                           t =      1.6549\n",
      "3       Two side test p value =      0.0986\n",
      "4      Difference < 0 p value =      0.9507\n",
      "5      Difference > 0 p value =      0.0493\n",
      "6                   Cohen's d =      0.1918\n",
      "7                   Hedge's g =      0.1915\n",
      "8               Glass's delta =      0.1771\n",
      "9                 Pearson's r =      0.0740\n"
     ]
    }
   ],
   "source": [
    "print(results)"
   ]
  },
  {
   "cell_type": "markdown",
   "id": "c70b4b86",
   "metadata": {},
   "source": [
    "The results of the independent t-test of the two sample means yielded a p value of 0.0986 which is slightly greater than the significance level ($\\alpha=0.05$), hence the difference between the two means falls outside the rejection area.\n",
    "\n",
    "Therefore **we accept the null hypothesis that the mean income of male applicants is not different from that of female applicants**."
   ]
  }
 ],
 "metadata": {
  "kernelspec": {
   "display_name": "Python 3.8.5 ('base')",
   "language": "python",
   "name": "python3"
  },
  "language_info": {
   "codemirror_mode": {
    "name": "ipython",
    "version": 3
   },
   "file_extension": ".py",
   "mimetype": "text/x-python",
   "name": "python",
   "nbconvert_exporter": "python",
   "pygments_lexer": "ipython3",
   "version": "3.8.5"
  },
  "vscode": {
   "interpreter": {
    "hash": "76ac492135aed600070e34d8546a0b50cf021a3b34a6bd98aa3156017a926207"
   }
  }
 },
 "nbformat": 4,
 "nbformat_minor": 5
}
